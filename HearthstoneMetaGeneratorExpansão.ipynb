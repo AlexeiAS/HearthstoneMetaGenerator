{
 "cells": [
  {
   "cell_type": "markdown",
   "metadata": {},
   "source": [
    "#### Owner : Alexei Alves de Souza - Matrícula : 398611"
   ]
  },
  {
   "cell_type": "code",
   "execution_count": 69,
   "metadata": {},
   "outputs": [],
   "source": [
    "import pandas as pd\n",
    "import numpy as np\n",
    "import matplotlib.pyplot as plt\n",
    "import math\n",
    "import unidecode #pip install Unidecode"
   ]
  },
  {
   "cell_type": "markdown",
   "metadata": {},
   "source": [
    "#### Esse trabalho tem como objetivo trazer uma análise do \"META\"  do TCG Hearthstone, trazendo análises dos decks mais utilizados, porcentagens de vitórias para assim estabelecer um \"META\" de arquétipos de decks mais viavéis naquele momento."
   ]
  },
  {
   "cell_type": "markdown",
   "metadata": {},
   "source": [
    "### Montando os Datasets:\n",
    "#### Os datasets foram obtidos a partir da página https://hsreplay.net/meta/?hl=pt-br#tab=matchups no formato do arquivo txt data.log, as funções abaixo irão tratar o arquivo para construir as respectivas tabelas.\n",
    "#### Para extrair o arquivo basta copiar e colar e após isso selecionar a área que engloba os dados da partida.\n",
    "#### Os seguintes procedimentos foram utilizados para remontar a tabela visível no site:"
   ]
  },
  {
   "cell_type": "code",
   "execution_count": 70,
   "metadata": {},
   "outputs": [],
   "source": [
    "#Função para limpar os dados e obter os nomes dos arquetipos\n",
    "def get_archetypes(patch):\n",
    "    data = open(patch,'r',encoding = 'utf8')\n",
    "    nome_linhas = []\n",
    "    nome_colunas = []\n",
    "    index = []\n",
    "    \n",
    "    control_flag = 0\n",
    "    control_count = 0\n",
    "    \n",
    "    newMatchup = 0\n",
    "    newArchetype = ''\n",
    "    \n",
    "    for line in data:\n",
    "        if 'Contra:' in line :\n",
    "            if control_flag == 0:\n",
    "                oponent = line[7:].lstrip()\n",
    "                nome_colunas.append(oponent.rstrip())\n",
    "                index.append(1)\n",
    "            else:\n",
    "                if index[control_count] == 0:\n",
    "                    oponent = line[7:].lstrip()\n",
    "                    nome_colunas[control_count] = oponent.rstrip()\n",
    "                    index[control_count] = 1\n",
    "            \n",
    "            \n",
    "            \n",
    "        if 'Número de partidas insuficiente' in line or 'Partida espelhada' in line:\n",
    "            if control_flag == 0:\n",
    "                nome_colunas.append('missing')\n",
    "                index.append(0)\n",
    "        \n",
    "        \n",
    "            \n",
    "        if newMatchup == 1:\n",
    "            control_count+= 1\n",
    "            newMatchup = 0\n",
    "            archetype = line\n",
    "            \n",
    "            if archetype != newArchetype and archetype != 'Número de partidas insuficiente\\n' :\n",
    "                if newArchetype != '' and control_flag == 0:\n",
    "                    control_flag = 1\n",
    "                \n",
    "                control_count = 0\n",
    "                newArchetype = archetype\n",
    "                nome_linhas.append(newArchetype.rstrip())\n",
    "                \n",
    "             \n",
    "            \n",
    "        elif line[0] == '~' or line[0].isnumeric() == True:\n",
    "            newMatchup = 1\n",
    "    \n",
    "    return nome_colunas,nome_linhas\n"
   ]
  },
  {
   "cell_type": "code",
   "execution_count": 71,
   "metadata": {},
   "outputs": [],
   "source": [
    "#Função para obter os valores númericos\n",
    "def get_values(patch,mode):\n",
    "    \n",
    "    if mode == 0:\n",
    "        str_values = 'Taxa de vitória:'\n",
    "        str_end = 16\n",
    "    else :\n",
    "        str_values = 'Partidas:'\n",
    "        str_end = 9\n",
    "    data = open(patch,'r',encoding = 'utf8')\n",
    "    values = np.empty(0)\n",
    "    for line in data :\n",
    "        if 'Partida espelhada' in line :\n",
    "            values = np.append(values,'mirror')\n",
    "        elif str_values in line :\n",
    "            num = line[str_end:].lstrip().rstrip()\n",
    "            num = [x for x in num if x.isnumeric()]\n",
    "            if mode == 0:\n",
    "                num.insert(2,'.')\n",
    "            num = ''.join(num)\n",
    "            values = np.append(values,num)\n",
    "        elif 'Número de partidas insuficiente' in line :\n",
    "            values = np.append(values,'noMatches')\n",
    "    return values,len(values)"
   ]
  },
  {
   "cell_type": "code",
   "execution_count": 72,
   "metadata": {},
   "outputs": [
    {
     "name": "stdout",
     "output_type": "stream",
     "text": [
      "Digite o nome do arquivo: \n",
      "dataAfterExp.txt\n"
     ]
    }
   ],
   "source": [
    "# 0 -> taxa de vitoria, 1 -> Número de partidas\n",
    "dataPatch = input('Digite o nome do arquivo: \\n')\n",
    "patch = './' + dataPatch\n",
    "nome_colunas,nome_linhas = get_archetypes(patch)\n",
    "lines,cols = len(nome_linhas),len(nome_colunas)\n",
    "matriz1 = get_values(patch,1)[0].reshape((lines,cols))\n",
    "matriz0 = get_values(patch,0)[0].reshape((lines,cols))\n",
    "\n",
    "df1 = pd.DataFrame(matriz1,index = nome_linhas, columns= nome_colunas)\n",
    "df0 = pd.DataFrame(matriz0,index = nome_linhas, columns= nome_colunas)"
   ]
  },
  {
   "cell_type": "code",
   "execution_count": 73,
   "metadata": {},
   "outputs": [],
   "source": [
    "#Convert o dataframe em float64 : NaN representa as Mirror Matches\n",
    "df1 = df1.apply(pd.to_numeric,args = ('coerce',))\n",
    "df0 = df0.apply(pd.to_numeric,args = ('coerce',))"
   ]
  },
  {
   "cell_type": "code",
   "execution_count": 74,
   "metadata": {},
   "outputs": [
    {
     "data": {
      "text/html": [
       "<div>\n",
       "<style scoped>\n",
       "    .dataframe tbody tr th:only-of-type {\n",
       "        vertical-align: middle;\n",
       "    }\n",
       "\n",
       "    .dataframe tbody tr th {\n",
       "        vertical-align: top;\n",
       "    }\n",
       "\n",
       "    .dataframe thead th {\n",
       "        text-align: right;\n",
       "    }\n",
       "</style>\n",
       "<table border=\"1\" class=\"dataframe\">\n",
       "  <thead>\n",
       "    <tr style=\"text-align: right;\">\n",
       "      <th></th>\n",
       "      <th>Libram Paladin</th>\n",
       "      <th>Pure Paladin</th>\n",
       "      <th>Paladino Murloc</th>\n",
       "      <th>Dragon Druid</th>\n",
       "      <th>Guardian Druid</th>\n",
       "      <th>Aggro Demon Hunter</th>\n",
       "      <th>Stealth Rogue</th>\n",
       "      <th>Big Warrior</th>\n",
       "      <th>Highlander Hunter</th>\n",
       "      <th>Totem Shaman</th>\n",
       "      <th>Mago Highlander</th>\n",
       "      <th>Gibberling Druid</th>\n",
       "      <th>Aggro Rogue</th>\n",
       "      <th>Caçador Dragão</th>\n",
       "      <th>Face Hunter</th>\n",
       "      <th>Sacerdote Highlander</th>\n",
       "      <th>Tempo Demon Hunter</th>\n",
       "    </tr>\n",
       "  </thead>\n",
       "  <tbody>\n",
       "    <tr>\n",
       "      <th>Libram Paladin</th>\n",
       "      <td>NaN</td>\n",
       "      <td>3887.0</td>\n",
       "      <td>1860.0</td>\n",
       "      <td>373.0</td>\n",
       "      <td>17199.0</td>\n",
       "      <td>2815.0</td>\n",
       "      <td>545.0</td>\n",
       "      <td>5808.0</td>\n",
       "      <td>2270.0</td>\n",
       "      <td>3756.0</td>\n",
       "      <td>3555.0</td>\n",
       "      <td>4349.0</td>\n",
       "      <td>7098.0</td>\n",
       "      <td>3191.0</td>\n",
       "      <td>4839.0</td>\n",
       "      <td>2792.0</td>\n",
       "      <td>3152.0</td>\n",
       "    </tr>\n",
       "    <tr>\n",
       "      <th>Pure Paladin</th>\n",
       "      <td>3887.0</td>\n",
       "      <td>NaN</td>\n",
       "      <td>545.0</td>\n",
       "      <td>128.0</td>\n",
       "      <td>4471.0</td>\n",
       "      <td>728.0</td>\n",
       "      <td>140.0</td>\n",
       "      <td>1693.0</td>\n",
       "      <td>676.0</td>\n",
       "      <td>1040.0</td>\n",
       "      <td>969.0</td>\n",
       "      <td>1058.0</td>\n",
       "      <td>1892.0</td>\n",
       "      <td>939.0</td>\n",
       "      <td>1315.0</td>\n",
       "      <td>714.0</td>\n",
       "      <td>901.0</td>\n",
       "    </tr>\n",
       "    <tr>\n",
       "      <th>Paladino Murloc</th>\n",
       "      <td>1860.0</td>\n",
       "      <td>545.0</td>\n",
       "      <td>NaN</td>\n",
       "      <td>48.0</td>\n",
       "      <td>2376.0</td>\n",
       "      <td>382.0</td>\n",
       "      <td>73.0</td>\n",
       "      <td>828.0</td>\n",
       "      <td>343.0</td>\n",
       "      <td>589.0</td>\n",
       "      <td>485.0</td>\n",
       "      <td>596.0</td>\n",
       "      <td>980.0</td>\n",
       "      <td>481.0</td>\n",
       "      <td>663.0</td>\n",
       "      <td>387.0</td>\n",
       "      <td>495.0</td>\n",
       "    </tr>\n",
       "    <tr>\n",
       "      <th>Dragon Druid</th>\n",
       "      <td>373.0</td>\n",
       "      <td>128.0</td>\n",
       "      <td>48.0</td>\n",
       "      <td>NaN</td>\n",
       "      <td>468.0</td>\n",
       "      <td>61.0</td>\n",
       "      <td>NaN</td>\n",
       "      <td>205.0</td>\n",
       "      <td>67.0</td>\n",
       "      <td>128.0</td>\n",
       "      <td>106.0</td>\n",
       "      <td>104.0</td>\n",
       "      <td>171.0</td>\n",
       "      <td>103.0</td>\n",
       "      <td>145.0</td>\n",
       "      <td>77.0</td>\n",
       "      <td>105.0</td>\n",
       "    </tr>\n",
       "    <tr>\n",
       "      <th>Guardian Druid</th>\n",
       "      <td>17199.0</td>\n",
       "      <td>4471.0</td>\n",
       "      <td>2376.0</td>\n",
       "      <td>468.0</td>\n",
       "      <td>NaN</td>\n",
       "      <td>3674.0</td>\n",
       "      <td>643.0</td>\n",
       "      <td>6919.0</td>\n",
       "      <td>2745.0</td>\n",
       "      <td>4700.0</td>\n",
       "      <td>4105.0</td>\n",
       "      <td>5362.0</td>\n",
       "      <td>8480.0</td>\n",
       "      <td>3784.0</td>\n",
       "      <td>5655.0</td>\n",
       "      <td>2876.0</td>\n",
       "      <td>3750.0</td>\n",
       "    </tr>\n",
       "    <tr>\n",
       "      <th>Aggro Demon Hunter</th>\n",
       "      <td>2815.0</td>\n",
       "      <td>728.0</td>\n",
       "      <td>382.0</td>\n",
       "      <td>61.0</td>\n",
       "      <td>3674.0</td>\n",
       "      <td>NaN</td>\n",
       "      <td>108.0</td>\n",
       "      <td>1132.0</td>\n",
       "      <td>455.0</td>\n",
       "      <td>745.0</td>\n",
       "      <td>700.0</td>\n",
       "      <td>1037.0</td>\n",
       "      <td>1385.0</td>\n",
       "      <td>653.0</td>\n",
       "      <td>1064.0</td>\n",
       "      <td>565.0</td>\n",
       "      <td>675.0</td>\n",
       "    </tr>\n",
       "    <tr>\n",
       "      <th>Stealth Rogue</th>\n",
       "      <td>545.0</td>\n",
       "      <td>140.0</td>\n",
       "      <td>73.0</td>\n",
       "      <td>NaN</td>\n",
       "      <td>643.0</td>\n",
       "      <td>108.0</td>\n",
       "      <td>NaN</td>\n",
       "      <td>223.0</td>\n",
       "      <td>93.0</td>\n",
       "      <td>138.0</td>\n",
       "      <td>125.0</td>\n",
       "      <td>162.0</td>\n",
       "      <td>269.0</td>\n",
       "      <td>112.0</td>\n",
       "      <td>156.0</td>\n",
       "      <td>131.0</td>\n",
       "      <td>102.0</td>\n",
       "    </tr>\n",
       "    <tr>\n",
       "      <th>Big Warrior</th>\n",
       "      <td>5808.0</td>\n",
       "      <td>1693.0</td>\n",
       "      <td>828.0</td>\n",
       "      <td>205.0</td>\n",
       "      <td>6919.0</td>\n",
       "      <td>1132.0</td>\n",
       "      <td>223.0</td>\n",
       "      <td>NaN</td>\n",
       "      <td>927.0</td>\n",
       "      <td>1707.0</td>\n",
       "      <td>1394.0</td>\n",
       "      <td>1673.0</td>\n",
       "      <td>2841.0</td>\n",
       "      <td>1312.0</td>\n",
       "      <td>1861.0</td>\n",
       "      <td>893.0</td>\n",
       "      <td>1400.0</td>\n",
       "    </tr>\n",
       "    <tr>\n",
       "      <th>Highlander Hunter</th>\n",
       "      <td>2270.0</td>\n",
       "      <td>676.0</td>\n",
       "      <td>343.0</td>\n",
       "      <td>67.0</td>\n",
       "      <td>2745.0</td>\n",
       "      <td>455.0</td>\n",
       "      <td>93.0</td>\n",
       "      <td>927.0</td>\n",
       "      <td>NaN</td>\n",
       "      <td>622.0</td>\n",
       "      <td>565.0</td>\n",
       "      <td>756.0</td>\n",
       "      <td>1150.0</td>\n",
       "      <td>538.0</td>\n",
       "      <td>814.0</td>\n",
       "      <td>461.0</td>\n",
       "      <td>535.0</td>\n",
       "    </tr>\n",
       "    <tr>\n",
       "      <th>Totem Shaman</th>\n",
       "      <td>3756.0</td>\n",
       "      <td>1040.0</td>\n",
       "      <td>589.0</td>\n",
       "      <td>128.0</td>\n",
       "      <td>4700.0</td>\n",
       "      <td>745.0</td>\n",
       "      <td>138.0</td>\n",
       "      <td>1707.0</td>\n",
       "      <td>622.0</td>\n",
       "      <td>NaN</td>\n",
       "      <td>975.0</td>\n",
       "      <td>1121.0</td>\n",
       "      <td>1835.0</td>\n",
       "      <td>889.0</td>\n",
       "      <td>1372.0</td>\n",
       "      <td>733.0</td>\n",
       "      <td>875.0</td>\n",
       "    </tr>\n",
       "  </tbody>\n",
       "</table>\n",
       "</div>"
      ],
      "text/plain": [
       "                    Libram Paladin  Pure Paladin  Paladino Murloc  \\\n",
       "Libram Paladin                 NaN        3887.0           1860.0   \n",
       "Pure Paladin                3887.0           NaN            545.0   \n",
       "Paladino Murloc             1860.0         545.0              NaN   \n",
       "Dragon Druid                 373.0         128.0             48.0   \n",
       "Guardian Druid             17199.0        4471.0           2376.0   \n",
       "Aggro Demon Hunter          2815.0         728.0            382.0   \n",
       "Stealth Rogue                545.0         140.0             73.0   \n",
       "Big Warrior                 5808.0        1693.0            828.0   \n",
       "Highlander Hunter           2270.0         676.0            343.0   \n",
       "Totem Shaman                3756.0        1040.0            589.0   \n",
       "\n",
       "                    Dragon Druid  Guardian Druid  Aggro Demon Hunter  \\\n",
       "Libram Paladin             373.0         17199.0              2815.0   \n",
       "Pure Paladin               128.0          4471.0               728.0   \n",
       "Paladino Murloc             48.0          2376.0               382.0   \n",
       "Dragon Druid                 NaN           468.0                61.0   \n",
       "Guardian Druid             468.0             NaN              3674.0   \n",
       "Aggro Demon Hunter          61.0          3674.0                 NaN   \n",
       "Stealth Rogue                NaN           643.0               108.0   \n",
       "Big Warrior                205.0          6919.0              1132.0   \n",
       "Highlander Hunter           67.0          2745.0               455.0   \n",
       "Totem Shaman               128.0          4700.0               745.0   \n",
       "\n",
       "                    Stealth Rogue  Big Warrior  Highlander Hunter  \\\n",
       "Libram Paladin              545.0       5808.0             2270.0   \n",
       "Pure Paladin                140.0       1693.0              676.0   \n",
       "Paladino Murloc              73.0        828.0              343.0   \n",
       "Dragon Druid                  NaN        205.0               67.0   \n",
       "Guardian Druid              643.0       6919.0             2745.0   \n",
       "Aggro Demon Hunter          108.0       1132.0              455.0   \n",
       "Stealth Rogue                 NaN        223.0               93.0   \n",
       "Big Warrior                 223.0          NaN              927.0   \n",
       "Highlander Hunter            93.0        927.0                NaN   \n",
       "Totem Shaman                138.0       1707.0              622.0   \n",
       "\n",
       "                    Totem Shaman  Mago Highlander  Gibberling Druid  \\\n",
       "Libram Paladin            3756.0           3555.0            4349.0   \n",
       "Pure Paladin              1040.0            969.0            1058.0   \n",
       "Paladino Murloc            589.0            485.0             596.0   \n",
       "Dragon Druid               128.0            106.0             104.0   \n",
       "Guardian Druid            4700.0           4105.0            5362.0   \n",
       "Aggro Demon Hunter         745.0            700.0            1037.0   \n",
       "Stealth Rogue              138.0            125.0             162.0   \n",
       "Big Warrior               1707.0           1394.0            1673.0   \n",
       "Highlander Hunter          622.0            565.0             756.0   \n",
       "Totem Shaman                 NaN            975.0            1121.0   \n",
       "\n",
       "                    Aggro Rogue  Caçador Dragão  Face Hunter  \\\n",
       "Libram Paladin           7098.0          3191.0       4839.0   \n",
       "Pure Paladin             1892.0           939.0       1315.0   \n",
       "Paladino Murloc           980.0           481.0        663.0   \n",
       "Dragon Druid              171.0           103.0        145.0   \n",
       "Guardian Druid           8480.0          3784.0       5655.0   \n",
       "Aggro Demon Hunter       1385.0           653.0       1064.0   \n",
       "Stealth Rogue             269.0           112.0        156.0   \n",
       "Big Warrior              2841.0          1312.0       1861.0   \n",
       "Highlander Hunter        1150.0           538.0        814.0   \n",
       "Totem Shaman             1835.0           889.0       1372.0   \n",
       "\n",
       "                    Sacerdote Highlander  Tempo Demon Hunter  \n",
       "Libram Paladin                    2792.0              3152.0  \n",
       "Pure Paladin                       714.0               901.0  \n",
       "Paladino Murloc                    387.0               495.0  \n",
       "Dragon Druid                        77.0               105.0  \n",
       "Guardian Druid                    2876.0              3750.0  \n",
       "Aggro Demon Hunter                 565.0               675.0  \n",
       "Stealth Rogue                      131.0               102.0  \n",
       "Big Warrior                        893.0              1400.0  \n",
       "Highlander Hunter                  461.0               535.0  \n",
       "Totem Shaman                       733.0               875.0  "
      ]
     },
     "execution_count": 74,
     "metadata": {},
     "output_type": "execute_result"
    }
   ],
   "source": [
    "#Dataset do número de partidas\n",
    "df1.head(10)"
   ]
  },
  {
   "cell_type": "code",
   "execution_count": 75,
   "metadata": {},
   "outputs": [
    {
     "data": {
      "text/html": [
       "<div>\n",
       "<style scoped>\n",
       "    .dataframe tbody tr th:only-of-type {\n",
       "        vertical-align: middle;\n",
       "    }\n",
       "\n",
       "    .dataframe tbody tr th {\n",
       "        vertical-align: top;\n",
       "    }\n",
       "\n",
       "    .dataframe thead th {\n",
       "        text-align: right;\n",
       "    }\n",
       "</style>\n",
       "<table border=\"1\" class=\"dataframe\">\n",
       "  <thead>\n",
       "    <tr style=\"text-align: right;\">\n",
       "      <th></th>\n",
       "      <th>Libram Paladin</th>\n",
       "      <th>Pure Paladin</th>\n",
       "      <th>Paladino Murloc</th>\n",
       "      <th>Dragon Druid</th>\n",
       "      <th>Guardian Druid</th>\n",
       "      <th>Aggro Demon Hunter</th>\n",
       "      <th>Stealth Rogue</th>\n",
       "      <th>Big Warrior</th>\n",
       "      <th>Highlander Hunter</th>\n",
       "      <th>Totem Shaman</th>\n",
       "      <th>Mago Highlander</th>\n",
       "      <th>Gibberling Druid</th>\n",
       "      <th>Aggro Rogue</th>\n",
       "      <th>Caçador Dragão</th>\n",
       "      <th>Face Hunter</th>\n",
       "      <th>Sacerdote Highlander</th>\n",
       "      <th>Tempo Demon Hunter</th>\n",
       "    </tr>\n",
       "  </thead>\n",
       "  <tbody>\n",
       "    <tr>\n",
       "      <th>Libram Paladin</th>\n",
       "      <td>NaN</td>\n",
       "      <td>58.52</td>\n",
       "      <td>48.87</td>\n",
       "      <td>68.90</td>\n",
       "      <td>61.90</td>\n",
       "      <td>48.77</td>\n",
       "      <td>54.12</td>\n",
       "      <td>65.42</td>\n",
       "      <td>66.60</td>\n",
       "      <td>59.05</td>\n",
       "      <td>52.51</td>\n",
       "      <td>55.82</td>\n",
       "      <td>55.45</td>\n",
       "      <td>66.90</td>\n",
       "      <td>68.73</td>\n",
       "      <td>59.63</td>\n",
       "      <td>56.44</td>\n",
       "    </tr>\n",
       "    <tr>\n",
       "      <th>Pure Paladin</th>\n",
       "      <td>41.44</td>\n",
       "      <td>NaN</td>\n",
       "      <td>47.15</td>\n",
       "      <td>50.78</td>\n",
       "      <td>50.27</td>\n",
       "      <td>52.33</td>\n",
       "      <td>56.42</td>\n",
       "      <td>52.80</td>\n",
       "      <td>64.79</td>\n",
       "      <td>56.73</td>\n",
       "      <td>45.71</td>\n",
       "      <td>56.52</td>\n",
       "      <td>56.13</td>\n",
       "      <td>63.89</td>\n",
       "      <td>69.20</td>\n",
       "      <td>54.48</td>\n",
       "      <td>58.49</td>\n",
       "    </tr>\n",
       "    <tr>\n",
       "      <th>Paladino Murloc</th>\n",
       "      <td>51.12</td>\n",
       "      <td>52.84</td>\n",
       "      <td>NaN</td>\n",
       "      <td>56.25</td>\n",
       "      <td>52.23</td>\n",
       "      <td>43.97</td>\n",
       "      <td>57.53</td>\n",
       "      <td>46.73</td>\n",
       "      <td>56.85</td>\n",
       "      <td>65.02</td>\n",
       "      <td>41.03</td>\n",
       "      <td>46.81</td>\n",
       "      <td>54.48</td>\n",
       "      <td>64.03</td>\n",
       "      <td>56.41</td>\n",
       "      <td>63.30</td>\n",
       "      <td>48.28</td>\n",
       "    </tr>\n",
       "    <tr>\n",
       "      <th>Dragon Druid</th>\n",
       "      <td>31.09</td>\n",
       "      <td>49.21</td>\n",
       "      <td>43.75</td>\n",
       "      <td>NaN</td>\n",
       "      <td>48.71</td>\n",
       "      <td>49.18</td>\n",
       "      <td>NaN</td>\n",
       "      <td>40.97</td>\n",
       "      <td>56.71</td>\n",
       "      <td>55.46</td>\n",
       "      <td>57.54</td>\n",
       "      <td>49.03</td>\n",
       "      <td>62.57</td>\n",
       "      <td>58.25</td>\n",
       "      <td>64.82</td>\n",
       "      <td>53.24</td>\n",
       "      <td>64.76</td>\n",
       "    </tr>\n",
       "    <tr>\n",
       "      <th>Guardian Druid</th>\n",
       "      <td>38.07</td>\n",
       "      <td>49.69</td>\n",
       "      <td>47.76</td>\n",
       "      <td>51.28</td>\n",
       "      <td>NaN</td>\n",
       "      <td>50.95</td>\n",
       "      <td>55.67</td>\n",
       "      <td>47.04</td>\n",
       "      <td>54.93</td>\n",
       "      <td>46.34</td>\n",
       "      <td>52.37</td>\n",
       "      <td>50.24</td>\n",
       "      <td>57.53</td>\n",
       "      <td>55.89</td>\n",
       "      <td>62.01</td>\n",
       "      <td>46.83</td>\n",
       "      <td>59.28</td>\n",
       "    </tr>\n",
       "    <tr>\n",
       "      <th>Aggro Demon Hunter</th>\n",
       "      <td>51.22</td>\n",
       "      <td>47.66</td>\n",
       "      <td>56.02</td>\n",
       "      <td>50.81</td>\n",
       "      <td>49.04</td>\n",
       "      <td>NaN</td>\n",
       "      <td>53.70</td>\n",
       "      <td>44.52</td>\n",
       "      <td>60.00</td>\n",
       "      <td>64.69</td>\n",
       "      <td>46.57</td>\n",
       "      <td>64.03</td>\n",
       "      <td>52.49</td>\n",
       "      <td>55.74</td>\n",
       "      <td>48.59</td>\n",
       "      <td>47.61</td>\n",
       "      <td>52.14</td>\n",
       "    </tr>\n",
       "    <tr>\n",
       "      <th>Stealth Rogue</th>\n",
       "      <td>45.87</td>\n",
       "      <td>43.57</td>\n",
       "      <td>42.46</td>\n",
       "      <td>NaN</td>\n",
       "      <td>44.32</td>\n",
       "      <td>46.29</td>\n",
       "      <td>NaN</td>\n",
       "      <td>58.74</td>\n",
       "      <td>64.51</td>\n",
       "      <td>53.62</td>\n",
       "      <td>53.60</td>\n",
       "      <td>38.88</td>\n",
       "      <td>55.01</td>\n",
       "      <td>51.78</td>\n",
       "      <td>50.00</td>\n",
       "      <td>58.77</td>\n",
       "      <td>55.88</td>\n",
       "    </tr>\n",
       "    <tr>\n",
       "      <th>Big Warrior</th>\n",
       "      <td>34.57</td>\n",
       "      <td>47.19</td>\n",
       "      <td>53.26</td>\n",
       "      <td>59.02</td>\n",
       "      <td>52.94</td>\n",
       "      <td>55.47</td>\n",
       "      <td>41.25</td>\n",
       "      <td>NaN</td>\n",
       "      <td>45.09</td>\n",
       "      <td>52.60</td>\n",
       "      <td>53.80</td>\n",
       "      <td>56.24</td>\n",
       "      <td>46.70</td>\n",
       "      <td>44.66</td>\n",
       "      <td>45.56</td>\n",
       "      <td>37.51</td>\n",
       "      <td>57.28</td>\n",
       "    </tr>\n",
       "    <tr>\n",
       "      <th>Highlander Hunter</th>\n",
       "      <td>33.39</td>\n",
       "      <td>35.20</td>\n",
       "      <td>42.85</td>\n",
       "      <td>43.28</td>\n",
       "      <td>45.06</td>\n",
       "      <td>40.00</td>\n",
       "      <td>35.48</td>\n",
       "      <td>54.90</td>\n",
       "      <td>NaN</td>\n",
       "      <td>55.46</td>\n",
       "      <td>63.53</td>\n",
       "      <td>47.08</td>\n",
       "      <td>46.43</td>\n",
       "      <td>53.90</td>\n",
       "      <td>44.84</td>\n",
       "      <td>63.55</td>\n",
       "      <td>45.60</td>\n",
       "    </tr>\n",
       "    <tr>\n",
       "      <th>Totem Shaman</th>\n",
       "      <td>40.94</td>\n",
       "      <td>43.26</td>\n",
       "      <td>34.97</td>\n",
       "      <td>44.53</td>\n",
       "      <td>53.63</td>\n",
       "      <td>35.30</td>\n",
       "      <td>46.37</td>\n",
       "      <td>47.39</td>\n",
       "      <td>44.53</td>\n",
       "      <td>NaN</td>\n",
       "      <td>52.92</td>\n",
       "      <td>39.33</td>\n",
       "      <td>46.53</td>\n",
       "      <td>53.88</td>\n",
       "      <td>57.58</td>\n",
       "      <td>64.80</td>\n",
       "      <td>39.54</td>\n",
       "    </tr>\n",
       "  </tbody>\n",
       "</table>\n",
       "</div>"
      ],
      "text/plain": [
       "                    Libram Paladin  Pure Paladin  Paladino Murloc  \\\n",
       "Libram Paladin                 NaN         58.52            48.87   \n",
       "Pure Paladin                 41.44           NaN            47.15   \n",
       "Paladino Murloc              51.12         52.84              NaN   \n",
       "Dragon Druid                 31.09         49.21            43.75   \n",
       "Guardian Druid               38.07         49.69            47.76   \n",
       "Aggro Demon Hunter           51.22         47.66            56.02   \n",
       "Stealth Rogue                45.87         43.57            42.46   \n",
       "Big Warrior                  34.57         47.19            53.26   \n",
       "Highlander Hunter            33.39         35.20            42.85   \n",
       "Totem Shaman                 40.94         43.26            34.97   \n",
       "\n",
       "                    Dragon Druid  Guardian Druid  Aggro Demon Hunter  \\\n",
       "Libram Paladin             68.90           61.90               48.77   \n",
       "Pure Paladin               50.78           50.27               52.33   \n",
       "Paladino Murloc            56.25           52.23               43.97   \n",
       "Dragon Druid                 NaN           48.71               49.18   \n",
       "Guardian Druid             51.28             NaN               50.95   \n",
       "Aggro Demon Hunter         50.81           49.04                 NaN   \n",
       "Stealth Rogue                NaN           44.32               46.29   \n",
       "Big Warrior                59.02           52.94               55.47   \n",
       "Highlander Hunter          43.28           45.06               40.00   \n",
       "Totem Shaman               44.53           53.63               35.30   \n",
       "\n",
       "                    Stealth Rogue  Big Warrior  Highlander Hunter  \\\n",
       "Libram Paladin              54.12        65.42              66.60   \n",
       "Pure Paladin                56.42        52.80              64.79   \n",
       "Paladino Murloc             57.53        46.73              56.85   \n",
       "Dragon Druid                  NaN        40.97              56.71   \n",
       "Guardian Druid              55.67        47.04              54.93   \n",
       "Aggro Demon Hunter          53.70        44.52              60.00   \n",
       "Stealth Rogue                 NaN        58.74              64.51   \n",
       "Big Warrior                 41.25          NaN              45.09   \n",
       "Highlander Hunter           35.48        54.90                NaN   \n",
       "Totem Shaman                46.37        47.39              44.53   \n",
       "\n",
       "                    Totem Shaman  Mago Highlander  Gibberling Druid  \\\n",
       "Libram Paladin             59.05            52.51             55.82   \n",
       "Pure Paladin               56.73            45.71             56.52   \n",
       "Paladino Murloc            65.02            41.03             46.81   \n",
       "Dragon Druid               55.46            57.54             49.03   \n",
       "Guardian Druid             46.34            52.37             50.24   \n",
       "Aggro Demon Hunter         64.69            46.57             64.03   \n",
       "Stealth Rogue              53.62            53.60             38.88   \n",
       "Big Warrior                52.60            53.80             56.24   \n",
       "Highlander Hunter          55.46            63.53             47.08   \n",
       "Totem Shaman                 NaN            52.92             39.33   \n",
       "\n",
       "                    Aggro Rogue  Caçador Dragão  Face Hunter  \\\n",
       "Libram Paladin            55.45           66.90        68.73   \n",
       "Pure Paladin              56.13           63.89        69.20   \n",
       "Paladino Murloc           54.48           64.03        56.41   \n",
       "Dragon Druid              62.57           58.25        64.82   \n",
       "Guardian Druid            57.53           55.89        62.01   \n",
       "Aggro Demon Hunter        52.49           55.74        48.59   \n",
       "Stealth Rogue             55.01           51.78        50.00   \n",
       "Big Warrior               46.70           44.66        45.56   \n",
       "Highlander Hunter         46.43           53.90        44.84   \n",
       "Totem Shaman              46.53           53.88        57.58   \n",
       "\n",
       "                    Sacerdote Highlander  Tempo Demon Hunter  \n",
       "Libram Paladin                     59.63               56.44  \n",
       "Pure Paladin                       54.48               58.49  \n",
       "Paladino Murloc                    63.30               48.28  \n",
       "Dragon Druid                       53.24               64.76  \n",
       "Guardian Druid                     46.83               59.28  \n",
       "Aggro Demon Hunter                 47.61               52.14  \n",
       "Stealth Rogue                      58.77               55.88  \n",
       "Big Warrior                        37.51               57.28  \n",
       "Highlander Hunter                  63.55               45.60  \n",
       "Totem Shaman                       64.80               39.54  "
      ]
     },
     "execution_count": 75,
     "metadata": {},
     "output_type": "execute_result"
    }
   ],
   "source": [
    "#Dataset da winrate \n",
    "df0.head(10)"
   ]
  },
  {
   "cell_type": "markdown",
   "metadata": {},
   "source": [
    "### Análise:\n",
    "-> Aqui serão realizadas uma série de análises com o objetivo de filtrar os melhores decks! "
   ]
  },
  {
   "cell_type": "markdown",
   "metadata": {},
   "source": [
    "#### Arquétipos mais jogados:\n",
    "##### Os 10 arquétipos com maior número de partidas contabilizadas."
   ]
  },
  {
   "cell_type": "code",
   "execution_count": 76,
   "metadata": {},
   "outputs": [
    {
     "data": {
      "text/plain": [
       "Guardian Druid        91132.0\n",
       "Libram Paladin        78900.0\n",
       "Aggro Rogue           43322.0\n",
       "Big Warrior           35689.0\n",
       "Face Hunter           31240.0\n",
       "Gibberling Druid      28396.0\n",
       "Totem Shaman          24618.0\n",
       "Pure Paladin          24519.0\n",
       "Mago Highlander       22198.0\n",
       "Tempo Demon Hunter    21307.0\n",
       "dtype: float64"
      ]
     },
     "execution_count": 76,
     "metadata": {},
     "output_type": "execute_result"
    }
   ],
   "source": [
    "#Soma os valores das partidas jogadas totais.\n",
    "sum_df1 = df1.sum().sort_values(ascending=False)\n",
    "\n",
    "#Seleciona os 10 arquétipos mais jogados\n",
    "sum_df1_head = sum_df1.head(10)\n",
    "sum_df1_head"
   ]
  },
  {
   "cell_type": "code",
   "execution_count": 77,
   "metadata": {},
   "outputs": [
    {
     "data": {
      "text/plain": [
       "<matplotlib.axes._subplots.AxesSubplot at 0x18393e1ed68>"
      ]
     },
     "execution_count": 77,
     "metadata": {},
     "output_type": "execute_result"
    },
    {
     "data": {
      "image/png": "[encoded data removed]",
      "text/plain": [
       "<Figure size 432x288 with 1 Axes>"
      ]
     },
     "metadata": {
      "needs_background": "light"
     },
     "output_type": "display_data"
    }
   ],
   "source": [
    "sum_df1_head.plot(kind = 'bar',color = 'blueviolet')"
   ]
  },
  {
   "cell_type": "markdown",
   "metadata": {},
   "source": [
    "#### Classes mais jogadas"
   ]
  },
  {
   "cell_type": "code",
   "execution_count": 78,
   "metadata": {},
   "outputs": [],
   "source": [
    "#Filtra os arquétipos pertecentes a cada classe agrupando utilizando tanto a linguagem inglesa como portuguesa.\n",
    "classesEN = np.array(['Demon Hunter', 'Druid', 'Hunter', 'Mage', 'Paladin', 'Priest', 'Rogue', 'Shaman', 'Warlock', 'Warrior' ])\n",
    "classesBR = np.array(['Caçador de Demônios', 'Druida', 'Caçador', 'Mago', 'Paladino', 'Sacerdote', 'Ladino', 'Xamã', 'Bruxo',\n",
    "             'Guerreiro' ])\n",
    "classesDici = dict.fromkeys(classesEN,0)\n",
    "for key in sum_df1.keys() :\n",
    "    \n",
    "    if any(x in key for x in classesEN) or any(y in key for y in classesBR):\n",
    "        classe = next((x for x in np.concatenate((classesEN,classesBR)) if x in key),False) \n",
    "        if classe in classesEN:\n",
    "            pass\n",
    "        else:\n",
    "            classIdx = np.where(classesBR == classe)[0][0]\n",
    "            classe = classesEN[classIdx]\n",
    "        valueIdx = np.where(np.array(sum_df1.keys()) == key)[0][0]\n",
    "        classesDici[classe] += sum_df1.values[valueIdx]\n"
   ]
  },
  {
   "cell_type": "code",
   "execution_count": 79,
   "metadata": {},
   "outputs": [
    {
     "data": {
      "text/plain": [
       "{'Druid': 122208.0,\n",
       " 'Paladin': 116362.0,\n",
       " 'Hunter': 67352.0,\n",
       " 'Rogue': 46734.0,\n",
       " 'Demon Hunter': 39970.0,\n",
       " 'Warrior': 35689.0,\n",
       " 'Shaman': 24618.0,\n",
       " 'Mage': 22198.0,\n",
       " 'Priest': 16730.0,\n",
       " 'Warlock': 0}"
      ]
     },
     "execution_count": 79,
     "metadata": {},
     "output_type": "execute_result"
    }
   ],
   "source": [
    "classesDici = {k: v for k, v in sorted(classesDici.items(), key=lambda item: item[1],reverse = True)}\n",
    "classesDici"
   ]
  },
  {
   "cell_type": "code",
   "execution_count": 80,
   "metadata": {},
   "outputs": [
    {
     "data": {
      "text/plain": [
       "<matplotlib.axes._subplots.AxesSubplot at 0x18393e9fa90>"
      ]
     },
     "execution_count": 80,
     "metadata": {},
     "output_type": "execute_result"
    },
    {
     "data": {
      "image/png": "[encoded data removed]",
      "text/plain": [
       "<Figure size 432x288 with 1 Axes>"
      ]
     },
     "metadata": {
      "needs_background": "light"
     },
     "output_type": "display_data"
    }
   ],
   "source": [
    "most_played_classes = pd.Series(classesDici)\n",
    "most_played_classes.plot(kind = 'bar',color = 'limegreen')"
   ]
  },
  {
   "cell_type": "markdown",
   "metadata": {},
   "source": [
    "#### Os 10 decks com maior winrate total:"
   ]
  },
  {
   "cell_type": "code",
   "execution_count": 81,
   "metadata": {},
   "outputs": [
    {
     "data": {
      "text/plain": [
       "Libram Paladin        59.889254\n",
       "Paladino Murloc       52.641016\n",
       "Pure Paladin          52.573557\n",
       "Aggro Demon Hunter    51.741886\n",
       "Guardian Druid        49.513658\n",
       "Dragon Druid          49.490944\n",
       "Stealth Rogue         49.333728\n",
       "Gibberling Druid      48.678265\n",
       "Mago Highlander       48.529935\n",
       "Big Warrior           47.558860\n",
       "dtype: float64"
      ]
     },
     "execution_count": 81,
     "metadata": {},
     "output_type": "execute_result"
    }
   ],
   "source": [
    "#Obtém os decks com a maior winrate geral com os pesos sendo o número de partidas jogadas contra cada arquétipo\n",
    "wr_total = ((df0*df1).transpose().sum()/df1.transpose().sum()).sort_values(ascending = False).head(10)\n",
    "wr_total"
   ]
  },
  {
   "cell_type": "code",
   "execution_count": 82,
   "metadata": {},
   "outputs": [
    {
     "data": {
      "text/plain": [
       "<matplotlib.axes._subplots.AxesSubplot at 0x18393f13ac8>"
      ]
     },
     "execution_count": 82,
     "metadata": {},
     "output_type": "execute_result"
    },
    {
     "data": {
      "image/png": "[encoded data removed]",
      "text/plain": [
       "<Figure size 432x288 with 1 Axes>"
      ]
     },
     "metadata": {
      "needs_background": "light"
     },
     "output_type": "display_data"
    }
   ],
   "source": [
    "wr_total.plot(kind = 'bar',color = 'royalblue')"
   ]
  },
  {
   "cell_type": "markdown",
   "metadata": {},
   "source": [
    "#### Os 10 decks com maior winrate em relação aos arquétipos mais jogados:"
   ]
  },
  {
   "cell_type": "code",
   "execution_count": 83,
   "metadata": {},
   "outputs": [],
   "source": [
    "#Obtém os decks com maior winrate apenas contra os decks mais presentes do meta\n",
    "most_played_arq = np.array(sum_df1_head.keys())\n",
    "wrdf = df0[most_played_arq].transpose()[most_played_arq]"
   ]
  },
  {
   "cell_type": "code",
   "execution_count": 84,
   "metadata": {},
   "outputs": [
    {
     "data": {
      "text/plain": [
       "Libram Paladin        60.163268\n",
       "Pure Paladin          51.562211\n",
       "Guardian Druid        48.900651\n",
       "Gibberling Druid      48.783131\n",
       "Mago Highlander       48.511456\n",
       "Big Warrior           47.576529\n",
       "Totem Shaman          47.545165\n",
       "Aggro Rogue           45.987552\n",
       "Tempo Demon Hunter    45.527792\n",
       "Face Hunter           42.194336\n",
       "dtype: float64"
      ]
     },
     "execution_count": 84,
     "metadata": {},
     "output_type": "execute_result"
    }
   ],
   "source": [
    "sum_arch = df1[wrdf.keys()].transpose()[wrdf.keys()]\n",
    "\n",
    "wr_arch = ((wrdf*sum_arch).sum()/sum_arch.sum()).sort_values(ascending = False)\n",
    "wr_arch"
   ]
  },
  {
   "cell_type": "code",
   "execution_count": 85,
   "metadata": {},
   "outputs": [
    {
     "data": {
      "text/plain": [
       "<matplotlib.axes._subplots.AxesSubplot at 0x18393f859e8>"
      ]
     },
     "execution_count": 85,
     "metadata": {},
     "output_type": "execute_result"
    },
    {
     "data": {
      "image/png": "[encoded data removed]",
      "text/plain": [
       "<Figure size 432x288 with 1 Axes>"
      ]
     },
     "metadata": {
      "needs_background": "light"
     },
     "output_type": "display_data"
    }
   ],
   "source": [
    "wr_arch.plot(kind = 'bar',color = 'r')"
   ]
  },
  {
   "cell_type": "markdown",
   "metadata": {},
   "source": [
    "#### Os tops counters dos top 10 decks :"
   ]
  },
  {
   "cell_type": "code",
   "execution_count": 86,
   "metadata": {},
   "outputs": [],
   "source": [
    "#A partir das análises anteorier adiciona os decks que aparecem em uma mas não em outra.\n",
    "classes = np.unique(np.concatenate((np.array(wr_arch.keys()),np.array(wr_total.keys()))))"
   ]
  },
  {
   "cell_type": "code",
   "execution_count": 87,
   "metadata": {},
   "outputs": [],
   "source": [
    "#Encontra os top counters de cada um dos arquétipos selecionados.\n",
    "min_arch= df0.transpose()[classes]\n",
    "counters = np.empty(0)\n",
    "for i in classes:\n",
    "    min_wr = np.nanmin(min_arch[i])\n",
    "    idx = np.where(min_arch[i] == min_wr)\n",
    "    counters = np.append(counters,df0.keys()[idx])"
   ]
  },
  {
   "cell_type": "code",
   "execution_count": 88,
   "metadata": {},
   "outputs": [
    {
     "data": {
      "text/plain": [
       "{'Aggro Demon Hunter': 'Big Warrior',\n",
       " 'Aggro Rogue': 'Dragon Druid',\n",
       " 'Big Warrior': 'Libram Paladin',\n",
       " 'Dragon Druid': 'Libram Paladin',\n",
       " 'Face Hunter': 'Pure Paladin',\n",
       " 'Gibberling Druid': 'Aggro Demon Hunter',\n",
       " 'Guardian Druid': 'Libram Paladin',\n",
       " 'Libram Paladin': 'Aggro Demon Hunter',\n",
       " 'Mago Highlander': 'Highlander Hunter',\n",
       " 'Paladino Murloc': 'Mago Highlander',\n",
       " 'Pure Paladin': 'Libram Paladin',\n",
       " 'Stealth Rogue': 'Gibberling Druid',\n",
       " 'Tempo Demon Hunter': 'Dragon Druid',\n",
       " 'Totem Shaman': 'Paladino Murloc'}"
      ]
     },
     "execution_count": 88,
     "metadata": {},
     "output_type": "execute_result"
    }
   ],
   "source": [
    "dici_counters = dict(zip(classes,counters))\n",
    "dici_counters"
   ]
  },
  {
   "cell_type": "markdown",
   "metadata": {},
   "source": [
    "#### Winrates dos top counters"
   ]
  },
  {
   "cell_type": "code",
   "execution_count": 89,
   "metadata": {},
   "outputs": [],
   "source": [
    "#Calcula a winrite dos counters dos principais decks\n",
    "tc = df0[classes].transpose()[counters].transpose().drop_duplicates().transpose()\n",
    "sum_tc = df1[classes].transpose()[counters].transpose().drop_duplicates().transpose()"
   ]
  },
  {
   "cell_type": "code",
   "execution_count": 90,
   "metadata": {},
   "outputs": [
    {
     "data": {
      "text/plain": [
       "Libram Paladin        59.266646\n",
       "Paladino Murloc       51.527426\n",
       "Pure Paladin          51.494766\n",
       "Aggro Demon Hunter    51.463815\n",
       "Mago Highlander       48.951178\n",
       "Dragon Druid          48.670896\n",
       "Gibberling Druid      48.392135\n",
       "Big Warrior           48.103057\n",
       "Highlander Hunter     44.395304\n",
       "dtype: float64"
      ]
     },
     "execution_count": 90,
     "metadata": {},
     "output_type": "execute_result"
    }
   ],
   "source": [
    "wr_tc = ((tc*sum_tc).sum()/sum_tc.sum()).sort_values(ascending = False)\n",
    "wr_tc"
   ]
  },
  {
   "cell_type": "markdown",
   "metadata": {},
   "source": [
    "#### Previsão do Meta"
   ]
  },
  {
   "cell_type": "markdown",
   "metadata": {},
   "source": [
    "#### Variáveis para inferência:\n",
    "    -> winrate total\n",
    "    -> winrate por arquétipos mais jogados\n",
    "    -> max counter winrate"
   ]
  },
  {
   "cell_type": "code",
   "execution_count": 91,
   "metadata": {},
   "outputs": [],
   "source": [
    "### Acrescentar as classes que aparecem no top counter mas não nas análises de maior winrate:\n",
    "classes = np.unique(np.concatenate((classes,np.array(wr_tc.keys()))))"
   ]
  },
  {
   "cell_type": "markdown",
   "metadata": {},
   "source": [
    "##### Winrate Total"
   ]
  },
  {
   "cell_type": "code",
   "execution_count": 92,
   "metadata": {},
   "outputs": [
    {
     "data": {
      "text/plain": [
       "Libram Paladin        59.889254\n",
       "Paladino Murloc       52.641016\n",
       "Pure Paladin          52.573557\n",
       "Aggro Demon Hunter    51.741886\n",
       "Guardian Druid        49.513658\n",
       "Dragon Druid          49.490944\n",
       "Stealth Rogue         49.333728\n",
       "Gibberling Druid      48.678265\n",
       "Mago Highlander       48.529935\n",
       "Big Warrior           47.558860\n",
       "Totem Shaman          47.513433\n",
       "Aggro Rogue           46.818693\n",
       "Tempo Demon Hunter    46.462221\n",
       "Highlander Hunter     45.466506\n",
       "Face Hunter           43.935482\n",
       "dtype: float64"
      ]
     },
     "execution_count": 92,
     "metadata": {},
     "output_type": "execute_result"
    }
   ],
   "source": [
    "#Calcula a winrate total para o as classes agora filtradas.\n",
    "wr_total = ((df0*df1).transpose().sum()/df1.transpose().sum())\n",
    "wr_total = wr_total[classes].sort_values(ascending = False)\n",
    "wr_total"
   ]
  },
  {
   "cell_type": "markdown",
   "metadata": {},
   "source": [
    "##### Winrate por arquétipos mais jogados"
   ]
  },
  {
   "cell_type": "code",
   "execution_count": 93,
   "metadata": {},
   "outputs": [
    {
     "data": {
      "text/plain": [
       "Libram Paladin        60.163268\n",
       "Paladino Murloc       51.763390\n",
       "Pure Paladin          51.562211\n",
       "Aggro Demon Hunter    51.324647\n",
       "Guardian Druid        48.900651\n",
       "Gibberling Druid      48.783131\n",
       "Dragon Druid          48.777025\n",
       "Mago Highlander       48.511456\n",
       "Stealth Rogue         48.498322\n",
       "Big Warrior           47.576529\n",
       "Totem Shaman          47.545165\n",
       "Aggro Rogue           45.987552\n",
       "Tempo Demon Hunter    45.527792\n",
       "Highlander Hunter     44.705769\n",
       "Face Hunter           42.194336\n",
       "dtype: float64"
      ]
     },
     "execution_count": 93,
     "metadata": {},
     "output_type": "execute_result"
    }
   ],
   "source": [
    "#Calcula o winrate com relação aos decks mais jogados.\n",
    "most_played_arq = np.array(sum_df1_head.keys())\n",
    "wrdf = df0[most_played_arq].transpose()[classes]\n",
    "\n",
    "sum_arch = df1[most_played_arq].transpose()[wrdf.keys()]\n",
    "\n",
    "wr_arch = ((wrdf*sum_arch).sum()/sum_arch.sum()).sort_values(ascending = False)\n",
    "wr_arch"
   ]
  },
  {
   "cell_type": "markdown",
   "metadata": {},
   "source": [
    "###### Max counter winrate"
   ]
  },
  {
   "cell_type": "code",
   "execution_count": 94,
   "metadata": {},
   "outputs": [],
   "source": [
    "#Cria um dicionário com cada classe e seu respectivo counter à direita.\n",
    "min_arch= df0.transpose()[classes]\n",
    "counters = np.empty(0)\n",
    "for i in classes:\n",
    "    min_wr = np.nanmin(min_arch[i])\n",
    "    idx = np.where(min_arch[i] == min_wr)\n",
    "    counters = np.append(counters,df0.keys()[idx])\n",
    "\n",
    "dici_counters = dict(zip(classes,counters))"
   ]
  },
  {
   "cell_type": "code",
   "execution_count": 95,
   "metadata": {},
   "outputs": [
    {
     "data": {
      "text/plain": [
       "{'Libram Paladin': 60.02626114888206,\n",
       " 'Paladino Murloc': 52.202202847870765,\n",
       " 'Pure Paladin': 52.06788389539544,\n",
       " 'Aggro Demon Hunter': 60.02626114888206,\n",
       " 'Guardian Druid': 49.20715414238617,\n",
       " 'Dragon Druid': 49.133984496355296,\n",
       " 'Stealth Rogue': 48.91602524520244,\n",
       " 'Gibberling Druid': 48.91602524520244,\n",
       " 'Mago Highlander': 52.202202847870765,\n",
       " 'Big Warrior': 51.53326642887994,\n",
       " 'Totem Shaman': 47.52929902535627,\n",
       " 'Aggro Rogue': 46.40312251922971,\n",
       " 'Tempo Demon Hunter': 45.995006430816666,\n",
       " 'Highlander Hunter': 48.52069559938782,\n",
       " 'Face Hunter': 43.06490912114471}"
      ]
     },
     "execution_count": 95,
     "metadata": {},
     "output_type": "execute_result"
    }
   ],
   "source": [
    "#Calcula o winrate médio (total/vs decks mais jogados) de cada arquétipo\n",
    "mean_wr = ((wr_total+wr_arch)/2).sort_values(ascending = False)\n",
    "\n",
    "#Obtém os valores da maior winrate entre os decks counterados caso o arquétipo apareça na lista de counters, \n",
    "#caso não mantém a winrate média.\n",
    "keys = list(dici_counters.keys())\n",
    "max_counter_wr = dict(mean_wr)\n",
    "for key in keys:\n",
    "    if dici_counters[key] not in classes:\n",
    "        continue\n",
    "    counter = dici_counters[key]\n",
    "    key_wr = mean_wr[key]\n",
    "    if key_wr > max_counter_wr[counter]:\n",
    "        max_counter_wr[counter] = key_wr\n",
    "max_counter_wr"
   ]
  },
  {
   "cell_type": "markdown",
   "metadata": {},
   "source": [
    "##### Média dos valores de counter e da winrate média"
   ]
  },
  {
   "cell_type": "code",
   "execution_count": 96,
   "metadata": {},
   "outputs": [],
   "source": [
    "#Tira a média aritimética dos valores de counter e a winrate média para definir o META\n",
    "max_counter_wr = pd.Series(max_counter_wr)\n",
    "META = ((max_counter_wr + mean_wr)/2).sort_values(ascending = False)"
   ]
  },
  {
   "cell_type": "code",
   "execution_count": 97,
   "metadata": {},
   "outputs": [
    {
     "data": {
      "text/plain": [
       "Libram Paladin        60.026261\n",
       "Aggro Demon Hunter    55.779764\n",
       "Paladino Murloc       52.202203\n",
       "Pure Paladin          52.067884\n",
       "Mago Highlander       50.361449\n",
       "Big Warrior           49.550480\n",
       "Guardian Druid        49.207154\n",
       "Dragon Druid          49.133984\n",
       "Stealth Rogue         48.916025\n",
       "Gibberling Druid      48.823362\n",
       "Totem Shaman          47.529299\n",
       "Highlander Hunter     46.803417\n",
       "Aggro Rogue           46.403123\n",
       "Tempo Demon Hunter    45.995006\n",
       "Face Hunter           43.064909\n",
       "dtype: float64"
      ]
     },
     "execution_count": 97,
     "metadata": {},
     "output_type": "execute_result"
    }
   ],
   "source": [
    "META"
   ]
  }
 ],
 "metadata": {
  "kernelspec": {
   "display_name": "Python 3",
   "language": "python",
   "name": "python3"
  },
  "language_info": {
   "codemirror_mode": {
    "name": "ipython",
    "version": 3
   },
   "file_extension": ".py",
   "mimetype": "text/x-python",
   "name": "python",
   "nbconvert_exporter": "python",
   "pygments_lexer": "ipython3",
   "version": "3.7.3"
  }
 },
 "nbformat": 4,
 "nbformat_minor": 2
}
