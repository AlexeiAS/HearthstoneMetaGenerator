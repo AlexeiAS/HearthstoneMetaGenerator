{
 "cells": [
  {
   "cell_type": "markdown",
   "metadata": {},
   "source": [
    "#### Owner : Alexei Alves de Souza - Matrícula : 398611"
   ]
  },
  {
   "cell_type": "code",
   "execution_count": 1,
   "metadata": {},
   "outputs": [],
   "source": [
    "import pandas as pd\n",
    "import numpy as np\n",
    "import matplotlib.pyplot as plt\n",
    "import math\n",
    "import unidecode #pip install Unidecode"
   ]
  },
  {
   "cell_type": "markdown",
   "metadata": {},
   "source": [
    "#### Esse trabalho tem como objetivo trazer uma análise do \"META\"  do TCG Hearthstone, trazendo análises dos decks mais utilizados, porcentagens de vitórias para assim estabelecer um \"META\" de arquétipos de decks mais viavéis naquele momento."
   ]
  },
  {
   "cell_type": "markdown",
   "metadata": {},
   "source": [
    "### Montando os Datasets:\n",
    "#### Os datasets foram obtidos a partir da página https://hsreplay.net/meta/?hl=pt-br#tab=matchups no formato do arquivo txt data.log, as funções abaixo irão tratar o arquivo para construir as respectivas tabelas.\n",
    "#### Para extrair o arquivo basta copiar e colar e após isso selecionar a área que engloba os dados da partida.\n",
    "#### Os seguintes procedimentos foram utilizados para remontar a tabela visível no site:"
   ]
  },
  {
   "cell_type": "code",
   "execution_count": 2,
   "metadata": {},
   "outputs": [],
   "source": [
    "#Função para limpar os dados e obter os nomes dos arquetipos\n",
    "def get_archetypes(patch):\n",
    "    data = open(patch,'r',encoding = 'utf8')\n",
    "    nome_linhas = []\n",
    "    nome_colunas = []\n",
    "    index = []\n",
    "    \n",
    "    control_flag = 0\n",
    "    control_count = 0\n",
    "    \n",
    "    newMatchup = 0\n",
    "    newArchetype = ''\n",
    "    \n",
    "    for line in data:\n",
    "        if 'Contra:' in line :\n",
    "            if control_flag == 0:\n",
    "                oponent = line[7:].lstrip()\n",
    "                nome_colunas.append(oponent.rstrip())\n",
    "                index.append(1)\n",
    "            else:\n",
    "                if index[control_count] == 0:\n",
    "                    oponent = line[7:].lstrip()\n",
    "                    nome_colunas[control_count] = oponent.rstrip()\n",
    "                    index[control_count] = 1\n",
    "            \n",
    "            \n",
    "            \n",
    "        if 'Número de partidas insuficiente' in line or 'Partida espelhada' in line:\n",
    "            if control_flag == 0:\n",
    "                nome_colunas.append('missing')\n",
    "                index.append(0)\n",
    "        \n",
    "        \n",
    "            \n",
    "        if newMatchup == 1:\n",
    "            control_count+= 1\n",
    "            newMatchup = 0\n",
    "            archetype = line\n",
    "            \n",
    "            if archetype != newArchetype and archetype != 'Número de partidas insuficiente\\n' :\n",
    "                if newArchetype != '' and control_flag == 0:\n",
    "                    control_flag = 1\n",
    "                \n",
    "                control_count = 0\n",
    "                newArchetype = archetype\n",
    "                nome_linhas.append(newArchetype.rstrip())\n",
    "                \n",
    "             \n",
    "            \n",
    "        elif line[0] == '~' or line[0].isnumeric() == True:\n",
    "            newMatchup = 1\n",
    "    \n",
    "    return nome_colunas,nome_linhas\n"
   ]
  },
  {
   "cell_type": "code",
   "execution_count": 3,
   "metadata": {},
   "outputs": [],
   "source": [
    "#Função para obter os valores númericos\n",
    "def get_values(patch,mode):\n",
    "    \n",
    "    if mode == 0:\n",
    "        str_values = 'Taxa de vitória:'\n",
    "        str_end = 16\n",
    "    else :\n",
    "        str_values = 'Partidas:'\n",
    "        str_end = 9\n",
    "    data = open(patch,'r',encoding = 'utf8')\n",
    "    values = np.empty(0)\n",
    "    for line in data :\n",
    "        if 'Partida espelhada' in line :\n",
    "            values = np.append(values,'mirror')\n",
    "        elif str_values in line :\n",
    "            num = line[str_end:].lstrip().rstrip()\n",
    "            num = [x for x in num if x.isnumeric()]\n",
    "            if mode == 0:\n",
    "                num.insert(2,'.')\n",
    "            num = ''.join(num)\n",
    "            values = np.append(values,num)\n",
    "        elif 'Número de partidas insuficiente' in line :\n",
    "            values = np.append(values,'noMatches')\n",
    "    return values,len(values)"
   ]
  },
  {
   "cell_type": "code",
   "execution_count": 4,
   "metadata": {},
   "outputs": [],
   "source": [
    "# 0 -> taxa de vitoria, 1 -> Número de partidas\n",
    "#\n",
    "patch = './data.log'\n",
    "nome_colunas,nome_linhas = get_archetypes(patch)\n",
    "lines,cols = len(nome_linhas),len(nome_colunas)\n",
    "\n",
    "matriz1 = get_values(patch,1)[0].reshape((lines,cols))\n",
    "matriz0 = get_values(patch,0)[0].reshape((lines,cols))\n",
    "\n",
    "df1 = pd.DataFrame(matriz1,index = nome_linhas, columns= nome_colunas)\n",
    "df0 = pd.DataFrame(matriz0,index = nome_linhas, columns= nome_colunas)"
   ]
  },
  {
   "cell_type": "code",
   "execution_count": 5,
   "metadata": {},
   "outputs": [],
   "source": [
    "#Convert o dataframe em float64 : NaN representa as Mirror Matches\n",
    "df1 = df1.apply(pd.to_numeric,args = ('coerce',))\n",
    "df0 = df0.apply(pd.to_numeric,args = ('coerce',))"
   ]
  },
  {
   "cell_type": "code",
   "execution_count": 6,
   "metadata": {},
   "outputs": [
    {
     "data": {
      "text/html": [
       "<div>\n",
       "<style scoped>\n",
       "    .dataframe tbody tr th:only-of-type {\n",
       "        vertical-align: middle;\n",
       "    }\n",
       "\n",
       "    .dataframe tbody tr th {\n",
       "        vertical-align: top;\n",
       "    }\n",
       "\n",
       "    .dataframe thead th {\n",
       "        text-align: right;\n",
       "    }\n",
       "</style>\n",
       "<table border=\"1\" class=\"dataframe\">\n",
       "  <thead>\n",
       "    <tr style=\"text-align: right;\">\n",
       "      <th></th>\n",
       "      <th>Paladino Murloc</th>\n",
       "      <th>Highlander Hunter</th>\n",
       "      <th>Totem Shaman</th>\n",
       "      <th>Pure Paladin</th>\n",
       "      <th>Caçador Dragão</th>\n",
       "      <th>Mago Highlander</th>\n",
       "      <th>Tempo Demon Hunter</th>\n",
       "      <th>Face Hunter</th>\n",
       "      <th>Galakrond Secret Rogue</th>\n",
       "      <th>Galakrond Shaman</th>\n",
       "      <th>...</th>\n",
       "      <th>Enrage Warrior</th>\n",
       "      <th>Druida Missão</th>\n",
       "      <th>Galakrond Warrior</th>\n",
       "      <th>Outro Mago</th>\n",
       "      <th>Outro Xamã</th>\n",
       "      <th>Highlander Warrior</th>\n",
       "      <th>Outro Ladino</th>\n",
       "      <th>Quest Rogue</th>\n",
       "      <th>Outro Caçador de Demônios</th>\n",
       "      <th>Small Spell Mage</th>\n",
       "    </tr>\n",
       "  </thead>\n",
       "  <tbody>\n",
       "    <tr>\n",
       "      <th>Paladino Murloc</th>\n",
       "      <td>NaN</td>\n",
       "      <td>6529.0</td>\n",
       "      <td>2074.0</td>\n",
       "      <td>3269.0</td>\n",
       "      <td>3850.0</td>\n",
       "      <td>5030.0</td>\n",
       "      <td>5249.0</td>\n",
       "      <td>3254.0</td>\n",
       "      <td>3135.0</td>\n",
       "      <td>2547.0</td>\n",
       "      <td>...</td>\n",
       "      <td>585.0</td>\n",
       "      <td>592.0</td>\n",
       "      <td>362.0</td>\n",
       "      <td>1326.0</td>\n",
       "      <td>1104.0</td>\n",
       "      <td>122.0</td>\n",
       "      <td>721.0</td>\n",
       "      <td>689.0</td>\n",
       "      <td>476.0</td>\n",
       "      <td>1041.0</td>\n",
       "    </tr>\n",
       "    <tr>\n",
       "      <th>Highlander Hunter</th>\n",
       "      <td>6529.0</td>\n",
       "      <td>NaN</td>\n",
       "      <td>2829.0</td>\n",
       "      <td>4045.0</td>\n",
       "      <td>5331.0</td>\n",
       "      <td>6923.0</td>\n",
       "      <td>6803.0</td>\n",
       "      <td>4079.0</td>\n",
       "      <td>3987.0</td>\n",
       "      <td>3394.0</td>\n",
       "      <td>...</td>\n",
       "      <td>806.0</td>\n",
       "      <td>731.0</td>\n",
       "      <td>462.0</td>\n",
       "      <td>1288.0</td>\n",
       "      <td>1082.0</td>\n",
       "      <td>112.0</td>\n",
       "      <td>814.0</td>\n",
       "      <td>717.0</td>\n",
       "      <td>450.0</td>\n",
       "      <td>1003.0</td>\n",
       "    </tr>\n",
       "    <tr>\n",
       "      <th>Totem Shaman</th>\n",
       "      <td>2074.0</td>\n",
       "      <td>2829.0</td>\n",
       "      <td>NaN</td>\n",
       "      <td>1441.0</td>\n",
       "      <td>1739.0</td>\n",
       "      <td>2191.0</td>\n",
       "      <td>2291.0</td>\n",
       "      <td>1498.0</td>\n",
       "      <td>1387.0</td>\n",
       "      <td>1124.0</td>\n",
       "      <td>...</td>\n",
       "      <td>280.0</td>\n",
       "      <td>270.0</td>\n",
       "      <td>219.0</td>\n",
       "      <td>665.0</td>\n",
       "      <td>541.0</td>\n",
       "      <td>48.0</td>\n",
       "      <td>364.0</td>\n",
       "      <td>303.0</td>\n",
       "      <td>274.0</td>\n",
       "      <td>477.0</td>\n",
       "    </tr>\n",
       "    <tr>\n",
       "      <th>Pure Paladin</th>\n",
       "      <td>3269.0</td>\n",
       "      <td>4045.0</td>\n",
       "      <td>1441.0</td>\n",
       "      <td>NaN</td>\n",
       "      <td>2755.0</td>\n",
       "      <td>3317.0</td>\n",
       "      <td>3645.0</td>\n",
       "      <td>2278.0</td>\n",
       "      <td>1982.0</td>\n",
       "      <td>1756.0</td>\n",
       "      <td>...</td>\n",
       "      <td>459.0</td>\n",
       "      <td>361.0</td>\n",
       "      <td>270.0</td>\n",
       "      <td>1031.0</td>\n",
       "      <td>819.0</td>\n",
       "      <td>76.0</td>\n",
       "      <td>546.0</td>\n",
       "      <td>437.0</td>\n",
       "      <td>421.0</td>\n",
       "      <td>622.0</td>\n",
       "    </tr>\n",
       "    <tr>\n",
       "      <th>Caçador Dragão</th>\n",
       "      <td>3850.0</td>\n",
       "      <td>5331.0</td>\n",
       "      <td>1739.0</td>\n",
       "      <td>2755.0</td>\n",
       "      <td>NaN</td>\n",
       "      <td>4081.0</td>\n",
       "      <td>4363.0</td>\n",
       "      <td>2736.0</td>\n",
       "      <td>2625.0</td>\n",
       "      <td>2153.0</td>\n",
       "      <td>...</td>\n",
       "      <td>492.0</td>\n",
       "      <td>493.0</td>\n",
       "      <td>332.0</td>\n",
       "      <td>1068.0</td>\n",
       "      <td>855.0</td>\n",
       "      <td>102.0</td>\n",
       "      <td>591.0</td>\n",
       "      <td>570.0</td>\n",
       "      <td>450.0</td>\n",
       "      <td>839.0</td>\n",
       "    </tr>\n",
       "    <tr>\n",
       "      <th>Mago Highlander</th>\n",
       "      <td>5030.0</td>\n",
       "      <td>6923.0</td>\n",
       "      <td>2191.0</td>\n",
       "      <td>3317.0</td>\n",
       "      <td>4081.0</td>\n",
       "      <td>NaN</td>\n",
       "      <td>5410.0</td>\n",
       "      <td>3333.0</td>\n",
       "      <td>3165.0</td>\n",
       "      <td>2782.0</td>\n",
       "      <td>...</td>\n",
       "      <td>641.0</td>\n",
       "      <td>527.0</td>\n",
       "      <td>335.0</td>\n",
       "      <td>1667.0</td>\n",
       "      <td>1214.0</td>\n",
       "      <td>80.0</td>\n",
       "      <td>798.0</td>\n",
       "      <td>545.0</td>\n",
       "      <td>638.0</td>\n",
       "      <td>777.0</td>\n",
       "    </tr>\n",
       "    <tr>\n",
       "      <th>Tempo Demon Hunter</th>\n",
       "      <td>5249.0</td>\n",
       "      <td>6803.0</td>\n",
       "      <td>2291.0</td>\n",
       "      <td>3645.0</td>\n",
       "      <td>4363.0</td>\n",
       "      <td>5410.0</td>\n",
       "      <td>NaN</td>\n",
       "      <td>3885.0</td>\n",
       "      <td>3299.0</td>\n",
       "      <td>2776.0</td>\n",
       "      <td>...</td>\n",
       "      <td>702.0</td>\n",
       "      <td>665.0</td>\n",
       "      <td>443.0</td>\n",
       "      <td>1469.0</td>\n",
       "      <td>1190.0</td>\n",
       "      <td>138.0</td>\n",
       "      <td>839.0</td>\n",
       "      <td>739.0</td>\n",
       "      <td>697.0</td>\n",
       "      <td>1247.0</td>\n",
       "    </tr>\n",
       "    <tr>\n",
       "      <th>Face Hunter</th>\n",
       "      <td>3254.0</td>\n",
       "      <td>4079.0</td>\n",
       "      <td>1498.0</td>\n",
       "      <td>2278.0</td>\n",
       "      <td>2736.0</td>\n",
       "      <td>3333.0</td>\n",
       "      <td>3885.0</td>\n",
       "      <td>NaN</td>\n",
       "      <td>2153.0</td>\n",
       "      <td>1854.0</td>\n",
       "      <td>...</td>\n",
       "      <td>440.0</td>\n",
       "      <td>423.0</td>\n",
       "      <td>302.0</td>\n",
       "      <td>1027.0</td>\n",
       "      <td>748.0</td>\n",
       "      <td>78.0</td>\n",
       "      <td>588.0</td>\n",
       "      <td>541.0</td>\n",
       "      <td>396.0</td>\n",
       "      <td>890.0</td>\n",
       "    </tr>\n",
       "    <tr>\n",
       "      <th>Galakrond Secret Rogue</th>\n",
       "      <td>3135.0</td>\n",
       "      <td>3987.0</td>\n",
       "      <td>1387.0</td>\n",
       "      <td>1982.0</td>\n",
       "      <td>2625.0</td>\n",
       "      <td>3165.0</td>\n",
       "      <td>3299.0</td>\n",
       "      <td>2153.0</td>\n",
       "      <td>NaN</td>\n",
       "      <td>1615.0</td>\n",
       "      <td>...</td>\n",
       "      <td>402.0</td>\n",
       "      <td>347.0</td>\n",
       "      <td>227.0</td>\n",
       "      <td>934.0</td>\n",
       "      <td>704.0</td>\n",
       "      <td>52.0</td>\n",
       "      <td>473.0</td>\n",
       "      <td>382.0</td>\n",
       "      <td>342.0</td>\n",
       "      <td>487.0</td>\n",
       "    </tr>\n",
       "    <tr>\n",
       "      <th>Galakrond Shaman</th>\n",
       "      <td>2547.0</td>\n",
       "      <td>3394.0</td>\n",
       "      <td>1124.0</td>\n",
       "      <td>1756.0</td>\n",
       "      <td>2153.0</td>\n",
       "      <td>2782.0</td>\n",
       "      <td>2776.0</td>\n",
       "      <td>1854.0</td>\n",
       "      <td>1615.0</td>\n",
       "      <td>NaN</td>\n",
       "      <td>...</td>\n",
       "      <td>350.0</td>\n",
       "      <td>311.0</td>\n",
       "      <td>224.0</td>\n",
       "      <td>852.0</td>\n",
       "      <td>646.0</td>\n",
       "      <td>60.0</td>\n",
       "      <td>390.0</td>\n",
       "      <td>329.0</td>\n",
       "      <td>363.0</td>\n",
       "      <td>499.0</td>\n",
       "    </tr>\n",
       "  </tbody>\n",
       "</table>\n",
       "<p>10 rows × 57 columns</p>\n",
       "</div>"
      ],
      "text/plain": [
       "                        Paladino Murloc  Highlander Hunter  Totem Shaman  \\\n",
       "Paladino Murloc                     NaN             6529.0        2074.0   \n",
       "Highlander Hunter                6529.0                NaN        2829.0   \n",
       "Totem Shaman                     2074.0             2829.0           NaN   \n",
       "Pure Paladin                     3269.0             4045.0        1441.0   \n",
       "Caçador Dragão                   3850.0             5331.0        1739.0   \n",
       "Mago Highlander                  5030.0             6923.0        2191.0   \n",
       "Tempo Demon Hunter               5249.0             6803.0        2291.0   \n",
       "Face Hunter                      3254.0             4079.0        1498.0   \n",
       "Galakrond Secret Rogue           3135.0             3987.0        1387.0   \n",
       "Galakrond Shaman                 2547.0             3394.0        1124.0   \n",
       "\n",
       "                        Pure Paladin  Caçador Dragão  Mago Highlander  \\\n",
       "Paladino Murloc               3269.0          3850.0           5030.0   \n",
       "Highlander Hunter             4045.0          5331.0           6923.0   \n",
       "Totem Shaman                  1441.0          1739.0           2191.0   \n",
       "Pure Paladin                     NaN          2755.0           3317.0   \n",
       "Caçador Dragão                2755.0             NaN           4081.0   \n",
       "Mago Highlander               3317.0          4081.0              NaN   \n",
       "Tempo Demon Hunter            3645.0          4363.0           5410.0   \n",
       "Face Hunter                   2278.0          2736.0           3333.0   \n",
       "Galakrond Secret Rogue        1982.0          2625.0           3165.0   \n",
       "Galakrond Shaman              1756.0          2153.0           2782.0   \n",
       "\n",
       "                        Tempo Demon Hunter  Face Hunter  \\\n",
       "Paladino Murloc                     5249.0       3254.0   \n",
       "Highlander Hunter                   6803.0       4079.0   \n",
       "Totem Shaman                        2291.0       1498.0   \n",
       "Pure Paladin                        3645.0       2278.0   \n",
       "Caçador Dragão                      4363.0       2736.0   \n",
       "Mago Highlander                     5410.0       3333.0   \n",
       "Tempo Demon Hunter                     NaN       3885.0   \n",
       "Face Hunter                         3885.0          NaN   \n",
       "Galakrond Secret Rogue              3299.0       2153.0   \n",
       "Galakrond Shaman                    2776.0       1854.0   \n",
       "\n",
       "                        Galakrond Secret Rogue  Galakrond Shaman  ...  \\\n",
       "Paladino Murloc                         3135.0            2547.0  ...   \n",
       "Highlander Hunter                       3987.0            3394.0  ...   \n",
       "Totem Shaman                            1387.0            1124.0  ...   \n",
       "Pure Paladin                            1982.0            1756.0  ...   \n",
       "Caçador Dragão                          2625.0            2153.0  ...   \n",
       "Mago Highlander                         3165.0            2782.0  ...   \n",
       "Tempo Demon Hunter                      3299.0            2776.0  ...   \n",
       "Face Hunter                             2153.0            1854.0  ...   \n",
       "Galakrond Secret Rogue                     NaN            1615.0  ...   \n",
       "Galakrond Shaman                        1615.0               NaN  ...   \n",
       "\n",
       "                        Enrage Warrior  Druida Missão  Galakrond Warrior  \\\n",
       "Paladino Murloc                  585.0          592.0              362.0   \n",
       "Highlander Hunter                806.0          731.0              462.0   \n",
       "Totem Shaman                     280.0          270.0              219.0   \n",
       "Pure Paladin                     459.0          361.0              270.0   \n",
       "Caçador Dragão                   492.0          493.0              332.0   \n",
       "Mago Highlander                  641.0          527.0              335.0   \n",
       "Tempo Demon Hunter               702.0          665.0              443.0   \n",
       "Face Hunter                      440.0          423.0              302.0   \n",
       "Galakrond Secret Rogue           402.0          347.0              227.0   \n",
       "Galakrond Shaman                 350.0          311.0              224.0   \n",
       "\n",
       "                        Outro Mago  Outro Xamã  Highlander Warrior  \\\n",
       "Paladino Murloc             1326.0      1104.0               122.0   \n",
       "Highlander Hunter           1288.0      1082.0               112.0   \n",
       "Totem Shaman                 665.0       541.0                48.0   \n",
       "Pure Paladin                1031.0       819.0                76.0   \n",
       "Caçador Dragão              1068.0       855.0               102.0   \n",
       "Mago Highlander             1667.0      1214.0                80.0   \n",
       "Tempo Demon Hunter          1469.0      1190.0               138.0   \n",
       "Face Hunter                 1027.0       748.0                78.0   \n",
       "Galakrond Secret Rogue       934.0       704.0                52.0   \n",
       "Galakrond Shaman             852.0       646.0                60.0   \n",
       "\n",
       "                        Outro Ladino  Quest Rogue  Outro Caçador de Demônios  \\\n",
       "Paladino Murloc                721.0        689.0                      476.0   \n",
       "Highlander Hunter              814.0        717.0                      450.0   \n",
       "Totem Shaman                   364.0        303.0                      274.0   \n",
       "Pure Paladin                   546.0        437.0                      421.0   \n",
       "Caçador Dragão                 591.0        570.0                      450.0   \n",
       "Mago Highlander                798.0        545.0                      638.0   \n",
       "Tempo Demon Hunter             839.0        739.0                      697.0   \n",
       "Face Hunter                    588.0        541.0                      396.0   \n",
       "Galakrond Secret Rogue         473.0        382.0                      342.0   \n",
       "Galakrond Shaman               390.0        329.0                      363.0   \n",
       "\n",
       "                        Small Spell Mage  \n",
       "Paladino Murloc                   1041.0  \n",
       "Highlander Hunter                 1003.0  \n",
       "Totem Shaman                       477.0  \n",
       "Pure Paladin                       622.0  \n",
       "Caçador Dragão                     839.0  \n",
       "Mago Highlander                    777.0  \n",
       "Tempo Demon Hunter                1247.0  \n",
       "Face Hunter                        890.0  \n",
       "Galakrond Secret Rogue             487.0  \n",
       "Galakrond Shaman                   499.0  \n",
       "\n",
       "[10 rows x 57 columns]"
      ]
     },
     "execution_count": 6,
     "metadata": {},
     "output_type": "execute_result"
    }
   ],
   "source": [
    "#Dataset do número de partidas\n",
    "df1.head(10)"
   ]
  },
  {
   "cell_type": "code",
   "execution_count": 7,
   "metadata": {},
   "outputs": [
    {
     "data": {
      "text/html": [
       "<div>\n",
       "<style scoped>\n",
       "    .dataframe tbody tr th:only-of-type {\n",
       "        vertical-align: middle;\n",
       "    }\n",
       "\n",
       "    .dataframe tbody tr th {\n",
       "        vertical-align: top;\n",
       "    }\n",
       "\n",
       "    .dataframe thead th {\n",
       "        text-align: right;\n",
       "    }\n",
       "</style>\n",
       "<table border=\"1\" class=\"dataframe\">\n",
       "  <thead>\n",
       "    <tr style=\"text-align: right;\">\n",
       "      <th></th>\n",
       "      <th>Paladino Murloc</th>\n",
       "      <th>Highlander Hunter</th>\n",
       "      <th>Totem Shaman</th>\n",
       "      <th>Pure Paladin</th>\n",
       "      <th>Caçador Dragão</th>\n",
       "      <th>Mago Highlander</th>\n",
       "      <th>Tempo Demon Hunter</th>\n",
       "      <th>Face Hunter</th>\n",
       "      <th>Galakrond Secret Rogue</th>\n",
       "      <th>Galakrond Shaman</th>\n",
       "      <th>...</th>\n",
       "      <th>Enrage Warrior</th>\n",
       "      <th>Druida Missão</th>\n",
       "      <th>Galakrond Warrior</th>\n",
       "      <th>Outro Mago</th>\n",
       "      <th>Outro Xamã</th>\n",
       "      <th>Highlander Warrior</th>\n",
       "      <th>Outro Ladino</th>\n",
       "      <th>Quest Rogue</th>\n",
       "      <th>Outro Caçador de Demônios</th>\n",
       "      <th>Small Spell Mage</th>\n",
       "    </tr>\n",
       "  </thead>\n",
       "  <tbody>\n",
       "    <tr>\n",
       "      <th>Paladino Murloc</th>\n",
       "      <td>NaN</td>\n",
       "      <td>59.85</td>\n",
       "      <td>66.20</td>\n",
       "      <td>56.31</td>\n",
       "      <td>65.94</td>\n",
       "      <td>44.37</td>\n",
       "      <td>49.11</td>\n",
       "      <td>64.59</td>\n",
       "      <td>55.75</td>\n",
       "      <td>64.27</td>\n",
       "      <td>...</td>\n",
       "      <td>51.96</td>\n",
       "      <td>83.10</td>\n",
       "      <td>58.28</td>\n",
       "      <td>70.88</td>\n",
       "      <td>70.83</td>\n",
       "      <td>58.19</td>\n",
       "      <td>69.90</td>\n",
       "      <td>67.92</td>\n",
       "      <td>64.28</td>\n",
       "      <td>76.17</td>\n",
       "    </tr>\n",
       "    <tr>\n",
       "      <th>Highlander Hunter</th>\n",
       "      <td>40.12</td>\n",
       "      <td>NaN</td>\n",
       "      <td>53.65</td>\n",
       "      <td>48.65</td>\n",
       "      <td>50.55</td>\n",
       "      <td>65.79</td>\n",
       "      <td>49.58</td>\n",
       "      <td>49.27</td>\n",
       "      <td>55.75</td>\n",
       "      <td>59.81</td>\n",
       "      <td>...</td>\n",
       "      <td>61.91</td>\n",
       "      <td>70.04</td>\n",
       "      <td>76.40</td>\n",
       "      <td>76.78</td>\n",
       "      <td>68.57</td>\n",
       "      <td>73.21</td>\n",
       "      <td>69.41</td>\n",
       "      <td>71.40</td>\n",
       "      <td>70.00</td>\n",
       "      <td>78.06</td>\n",
       "    </tr>\n",
       "    <tr>\n",
       "      <th>Totem Shaman</th>\n",
       "      <td>33.79</td>\n",
       "      <td>46.34</td>\n",
       "      <td>NaN</td>\n",
       "      <td>48.02</td>\n",
       "      <td>54.74</td>\n",
       "      <td>49.93</td>\n",
       "      <td>37.58</td>\n",
       "      <td>62.14</td>\n",
       "      <td>47.80</td>\n",
       "      <td>55.78</td>\n",
       "      <td>...</td>\n",
       "      <td>42.50</td>\n",
       "      <td>79.25</td>\n",
       "      <td>53.42</td>\n",
       "      <td>62.55</td>\n",
       "      <td>63.40</td>\n",
       "      <td>50.00</td>\n",
       "      <td>57.41</td>\n",
       "      <td>65.67</td>\n",
       "      <td>46.35</td>\n",
       "      <td>75.05</td>\n",
       "    </tr>\n",
       "    <tr>\n",
       "      <th>Pure Paladin</th>\n",
       "      <td>43.68</td>\n",
       "      <td>51.32</td>\n",
       "      <td>51.97</td>\n",
       "      <td>NaN</td>\n",
       "      <td>62.50</td>\n",
       "      <td>40.82</td>\n",
       "      <td>56.04</td>\n",
       "      <td>73.13</td>\n",
       "      <td>41.62</td>\n",
       "      <td>51.53</td>\n",
       "      <td>...</td>\n",
       "      <td>67.75</td>\n",
       "      <td>61.77</td>\n",
       "      <td>69.62</td>\n",
       "      <td>58.00</td>\n",
       "      <td>63.85</td>\n",
       "      <td>81.57</td>\n",
       "      <td>60.25</td>\n",
       "      <td>60.86</td>\n",
       "      <td>67.22</td>\n",
       "      <td>62.54</td>\n",
       "    </tr>\n",
       "    <tr>\n",
       "      <th>Caçador Dragão</th>\n",
       "      <td>34.05</td>\n",
       "      <td>49.44</td>\n",
       "      <td>45.25</td>\n",
       "      <td>37.49</td>\n",
       "      <td>NaN</td>\n",
       "      <td>60.40</td>\n",
       "      <td>51.57</td>\n",
       "      <td>50.65</td>\n",
       "      <td>52.53</td>\n",
       "      <td>53.55</td>\n",
       "      <td>...</td>\n",
       "      <td>55.48</td>\n",
       "      <td>63.89</td>\n",
       "      <td>63.55</td>\n",
       "      <td>73.03</td>\n",
       "      <td>61.63</td>\n",
       "      <td>69.60</td>\n",
       "      <td>66.32</td>\n",
       "      <td>68.07</td>\n",
       "      <td>60.00</td>\n",
       "      <td>78.30</td>\n",
       "    </tr>\n",
       "    <tr>\n",
       "      <th>Mago Highlander</th>\n",
       "      <td>55.62</td>\n",
       "      <td>34.19</td>\n",
       "      <td>50.06</td>\n",
       "      <td>59.17</td>\n",
       "      <td>39.54</td>\n",
       "      <td>NaN</td>\n",
       "      <td>53.34</td>\n",
       "      <td>34.59</td>\n",
       "      <td>53.71</td>\n",
       "      <td>54.45</td>\n",
       "      <td>...</td>\n",
       "      <td>59.28</td>\n",
       "      <td>59.20</td>\n",
       "      <td>58.20</td>\n",
       "      <td>64.48</td>\n",
       "      <td>67.46</td>\n",
       "      <td>70.00</td>\n",
       "      <td>67.66</td>\n",
       "      <td>67.52</td>\n",
       "      <td>70.06</td>\n",
       "      <td>60.23</td>\n",
       "    </tr>\n",
       "    <tr>\n",
       "      <th>Tempo Demon Hunter</th>\n",
       "      <td>50.88</td>\n",
       "      <td>50.41</td>\n",
       "      <td>62.41</td>\n",
       "      <td>43.95</td>\n",
       "      <td>48.42</td>\n",
       "      <td>46.65</td>\n",
       "      <td>NaN</td>\n",
       "      <td>50.01</td>\n",
       "      <td>50.77</td>\n",
       "      <td>53.02</td>\n",
       "      <td>...</td>\n",
       "      <td>48.00</td>\n",
       "      <td>60.60</td>\n",
       "      <td>60.72</td>\n",
       "      <td>66.16</td>\n",
       "      <td>72.10</td>\n",
       "      <td>60.14</td>\n",
       "      <td>65.55</td>\n",
       "      <td>68.20</td>\n",
       "      <td>64.70</td>\n",
       "      <td>69.36</td>\n",
       "    </tr>\n",
       "    <tr>\n",
       "      <th>Face Hunter</th>\n",
       "      <td>35.40</td>\n",
       "      <td>50.67</td>\n",
       "      <td>37.85</td>\n",
       "      <td>26.86</td>\n",
       "      <td>49.30</td>\n",
       "      <td>65.37</td>\n",
       "      <td>49.93</td>\n",
       "      <td>NaN</td>\n",
       "      <td>60.28</td>\n",
       "      <td>55.82</td>\n",
       "      <td>...</td>\n",
       "      <td>49.31</td>\n",
       "      <td>47.51</td>\n",
       "      <td>52.98</td>\n",
       "      <td>70.59</td>\n",
       "      <td>60.29</td>\n",
       "      <td>51.28</td>\n",
       "      <td>64.28</td>\n",
       "      <td>70.79</td>\n",
       "      <td>61.36</td>\n",
       "      <td>77.52</td>\n",
       "    </tr>\n",
       "    <tr>\n",
       "      <th>Galakrond Secret Rogue</th>\n",
       "      <td>44.24</td>\n",
       "      <td>44.24</td>\n",
       "      <td>52.19</td>\n",
       "      <td>58.37</td>\n",
       "      <td>47.39</td>\n",
       "      <td>46.28</td>\n",
       "      <td>49.22</td>\n",
       "      <td>39.71</td>\n",
       "      <td>NaN</td>\n",
       "      <td>50.21</td>\n",
       "      <td>...</td>\n",
       "      <td>57.21</td>\n",
       "      <td>51.87</td>\n",
       "      <td>61.23</td>\n",
       "      <td>60.92</td>\n",
       "      <td>66.90</td>\n",
       "      <td>65.38</td>\n",
       "      <td>63.21</td>\n",
       "      <td>62.30</td>\n",
       "      <td>59.35</td>\n",
       "      <td>61.80</td>\n",
       "    </tr>\n",
       "    <tr>\n",
       "      <th>Galakrond Shaman</th>\n",
       "      <td>35.72</td>\n",
       "      <td>40.18</td>\n",
       "      <td>44.21</td>\n",
       "      <td>48.46</td>\n",
       "      <td>46.44</td>\n",
       "      <td>45.54</td>\n",
       "      <td>46.97</td>\n",
       "      <td>44.17</td>\n",
       "      <td>49.78</td>\n",
       "      <td>NaN</td>\n",
       "      <td>...</td>\n",
       "      <td>60.57</td>\n",
       "      <td>66.23</td>\n",
       "      <td>68.30</td>\n",
       "      <td>60.79</td>\n",
       "      <td>62.22</td>\n",
       "      <td>58.33</td>\n",
       "      <td>63.84</td>\n",
       "      <td>69.90</td>\n",
       "      <td>58.12</td>\n",
       "      <td>67.13</td>\n",
       "    </tr>\n",
       "  </tbody>\n",
       "</table>\n",
       "<p>10 rows × 57 columns</p>\n",
       "</div>"
      ],
      "text/plain": [
       "                        Paladino Murloc  Highlander Hunter  Totem Shaman  \\\n",
       "Paladino Murloc                     NaN              59.85         66.20   \n",
       "Highlander Hunter                 40.12                NaN         53.65   \n",
       "Totem Shaman                      33.79              46.34           NaN   \n",
       "Pure Paladin                      43.68              51.32         51.97   \n",
       "Caçador Dragão                    34.05              49.44         45.25   \n",
       "Mago Highlander                   55.62              34.19         50.06   \n",
       "Tempo Demon Hunter                50.88              50.41         62.41   \n",
       "Face Hunter                       35.40              50.67         37.85   \n",
       "Galakrond Secret Rogue            44.24              44.24         52.19   \n",
       "Galakrond Shaman                  35.72              40.18         44.21   \n",
       "\n",
       "                        Pure Paladin  Caçador Dragão  Mago Highlander  \\\n",
       "Paladino Murloc                56.31           65.94            44.37   \n",
       "Highlander Hunter              48.65           50.55            65.79   \n",
       "Totem Shaman                   48.02           54.74            49.93   \n",
       "Pure Paladin                     NaN           62.50            40.82   \n",
       "Caçador Dragão                 37.49             NaN            60.40   \n",
       "Mago Highlander                59.17           39.54              NaN   \n",
       "Tempo Demon Hunter             43.95           48.42            46.65   \n",
       "Face Hunter                    26.86           49.30            65.37   \n",
       "Galakrond Secret Rogue         58.37           47.39            46.28   \n",
       "Galakrond Shaman               48.46           46.44            45.54   \n",
       "\n",
       "                        Tempo Demon Hunter  Face Hunter  \\\n",
       "Paladino Murloc                      49.11        64.59   \n",
       "Highlander Hunter                    49.58        49.27   \n",
       "Totem Shaman                         37.58        62.14   \n",
       "Pure Paladin                         56.04        73.13   \n",
       "Caçador Dragão                       51.57        50.65   \n",
       "Mago Highlander                      53.34        34.59   \n",
       "Tempo Demon Hunter                     NaN        50.01   \n",
       "Face Hunter                          49.93          NaN   \n",
       "Galakrond Secret Rogue               49.22        39.71   \n",
       "Galakrond Shaman                     46.97        44.17   \n",
       "\n",
       "                        Galakrond Secret Rogue  Galakrond Shaman  ...  \\\n",
       "Paladino Murloc                          55.75             64.27  ...   \n",
       "Highlander Hunter                        55.75             59.81  ...   \n",
       "Totem Shaman                             47.80             55.78  ...   \n",
       "Pure Paladin                             41.62             51.53  ...   \n",
       "Caçador Dragão                           52.53             53.55  ...   \n",
       "Mago Highlander                          53.71             54.45  ...   \n",
       "Tempo Demon Hunter                       50.77             53.02  ...   \n",
       "Face Hunter                              60.28             55.82  ...   \n",
       "Galakrond Secret Rogue                     NaN             50.21  ...   \n",
       "Galakrond Shaman                         49.78               NaN  ...   \n",
       "\n",
       "                        Enrage Warrior  Druida Missão  Galakrond Warrior  \\\n",
       "Paladino Murloc                  51.96          83.10              58.28   \n",
       "Highlander Hunter                61.91          70.04              76.40   \n",
       "Totem Shaman                     42.50          79.25              53.42   \n",
       "Pure Paladin                     67.75          61.77              69.62   \n",
       "Caçador Dragão                   55.48          63.89              63.55   \n",
       "Mago Highlander                  59.28          59.20              58.20   \n",
       "Tempo Demon Hunter               48.00          60.60              60.72   \n",
       "Face Hunter                      49.31          47.51              52.98   \n",
       "Galakrond Secret Rogue           57.21          51.87              61.23   \n",
       "Galakrond Shaman                 60.57          66.23              68.30   \n",
       "\n",
       "                        Outro Mago  Outro Xamã  Highlander Warrior  \\\n",
       "Paladino Murloc              70.88       70.83               58.19   \n",
       "Highlander Hunter            76.78       68.57               73.21   \n",
       "Totem Shaman                 62.55       63.40               50.00   \n",
       "Pure Paladin                 58.00       63.85               81.57   \n",
       "Caçador Dragão               73.03       61.63               69.60   \n",
       "Mago Highlander              64.48       67.46               70.00   \n",
       "Tempo Demon Hunter           66.16       72.10               60.14   \n",
       "Face Hunter                  70.59       60.29               51.28   \n",
       "Galakrond Secret Rogue       60.92       66.90               65.38   \n",
       "Galakrond Shaman             60.79       62.22               58.33   \n",
       "\n",
       "                        Outro Ladino  Quest Rogue  Outro Caçador de Demônios  \\\n",
       "Paladino Murloc                69.90        67.92                      64.28   \n",
       "Highlander Hunter              69.41        71.40                      70.00   \n",
       "Totem Shaman                   57.41        65.67                      46.35   \n",
       "Pure Paladin                   60.25        60.86                      67.22   \n",
       "Caçador Dragão                 66.32        68.07                      60.00   \n",
       "Mago Highlander                67.66        67.52                      70.06   \n",
       "Tempo Demon Hunter             65.55        68.20                      64.70   \n",
       "Face Hunter                    64.28        70.79                      61.36   \n",
       "Galakrond Secret Rogue         63.21        62.30                      59.35   \n",
       "Galakrond Shaman               63.84        69.90                      58.12   \n",
       "\n",
       "                        Small Spell Mage  \n",
       "Paladino Murloc                    76.17  \n",
       "Highlander Hunter                  78.06  \n",
       "Totem Shaman                       75.05  \n",
       "Pure Paladin                       62.54  \n",
       "Caçador Dragão                     78.30  \n",
       "Mago Highlander                    60.23  \n",
       "Tempo Demon Hunter                 69.36  \n",
       "Face Hunter                        77.52  \n",
       "Galakrond Secret Rogue             61.80  \n",
       "Galakrond Shaman                   67.13  \n",
       "\n",
       "[10 rows x 57 columns]"
      ]
     },
     "execution_count": 7,
     "metadata": {},
     "output_type": "execute_result"
    }
   ],
   "source": [
    "#Dataset da winrate \n",
    "df0.head(10)"
   ]
  },
  {
   "cell_type": "markdown",
   "metadata": {},
   "source": [
    "### Análise:\n",
    "-> Aqui serão realizadas uma série de análises com o objetivo de filtrar os melhores decks! "
   ]
  },
  {
   "cell_type": "markdown",
   "metadata": {},
   "source": [
    "#### Arquétipos mais jogados:\n",
    "##### Os 10 arquétipos com maior número de partidas contabilizadas."
   ]
  },
  {
   "cell_type": "code",
   "execution_count": 8,
   "metadata": {},
   "outputs": [
    {
     "data": {
      "text/plain": [
       "Galakrond Priest      142636.0\n",
       "Highlander Hunter     105270.0\n",
       "Tempo Demon Hunter     95045.0\n",
       "No Minion Mage         91951.0\n",
       "Mago Highlander        86030.0\n",
       "Paladino Murloc        84733.0\n",
       "Caçador Dragão         71894.0\n",
       "Face Hunter            62864.0\n",
       "Dragon Druid           62666.0\n",
       "Pure Paladin           58487.0\n",
       "dtype: float64"
      ]
     },
     "execution_count": 8,
     "metadata": {},
     "output_type": "execute_result"
    }
   ],
   "source": [
    "#Soma os valores das partidas jogadas totais.\n",
    "sum_df1 = df1.sum().sort_values(ascending=False)\n",
    "\n",
    "#Seleciona os 10 arquétipos mais jogados\n",
    "sum_df1_head = sum_df1.head(10)\n",
    "sum_df1_head"
   ]
  },
  {
   "cell_type": "code",
   "execution_count": 9,
   "metadata": {},
   "outputs": [
    {
     "data": {
      "text/plain": [
       "<matplotlib.axes._subplots.AxesSubplot at 0x10466546cc0>"
      ]
     },
     "execution_count": 9,
     "metadata": {},
     "output_type": "execute_result"
    },
    {
     "data": {
      "image/png": "[encoded data removed]",
      "text/plain": [
       "<Figure size 432x288 with 1 Axes>"
      ]
     },
     "metadata": {
      "needs_background": "light"
     },
     "output_type": "display_data"
    }
   ],
   "source": [
    "sum_df1_head.plot(kind = 'bar',color = 'blueviolet')"
   ]
  },
  {
   "cell_type": "markdown",
   "metadata": {},
   "source": [
    "#### Classes mais jogadas"
   ]
  },
  {
   "cell_type": "code",
   "execution_count": 10,
   "metadata": {},
   "outputs": [],
   "source": [
    "#Filtra os arquétipos pertecentes a cada classe agrupando utilizando tanto a linguagem inglesa como portuguesa.\n",
    "classesEN = np.array(['Demon Hunter', 'Druid', 'Hunter', 'Mage', 'Paladin', 'Priest', 'Rogue', 'Shaman', 'Warlock', 'Warrior' ])\n",
    "classesBR = np.array(['Caçador de Demônios', 'Druida', 'Caçador', 'Mago', 'Paladino', 'Sacerdote', 'Ladino', 'Xamã', 'Bruxo',\n",
    "             'Guerreiro' ])\n",
    "classesDici = dict.fromkeys(classesEN,0)\n",
    "for key in sum_df1.keys() :\n",
    "    \n",
    "    if any(x in key for x in classesEN) or any(y in key for y in classesBR):\n",
    "        classe = next((x for x in np.concatenate((classesEN,classesBR)) if x in key),False) \n",
    "        if classe in classesEN:\n",
    "            pass\n",
    "        else:\n",
    "            classIdx = np.where(classesBR == classe)[0][0]\n",
    "            classe = classesEN[classIdx]\n",
    "        valueIdx = np.where(np.array(sum_df1.keys()) == key)[0][0]\n",
    "        classesDici[classe] += sum_df1.values[valueIdx]\n"
   ]
  },
  {
   "cell_type": "code",
   "execution_count": 11,
   "metadata": {},
   "outputs": [
    {
     "data": {
      "text/plain": [
       "{'Mage': 283599.0,\n",
       " 'Priest': 268524.0,\n",
       " 'Hunter': 252003.0,\n",
       " 'Druid': 163293.0,\n",
       " 'Rogue': 159854.0,\n",
       " 'Paladin': 159639.0,\n",
       " 'Demon Hunter': 159603.0,\n",
       " 'Shaman': 146764.0,\n",
       " 'Warlock': 95703.0,\n",
       " 'Warrior': 85199.0}"
      ]
     },
     "execution_count": 11,
     "metadata": {},
     "output_type": "execute_result"
    }
   ],
   "source": [
    "classesDici = {k: v for k, v in sorted(classesDici.items(), key=lambda item: item[1],reverse = True)}\n",
    "classesDici"
   ]
  },
  {
   "cell_type": "code",
   "execution_count": 12,
   "metadata": {},
   "outputs": [
    {
     "data": {
      "text/plain": [
       "<matplotlib.axes._subplots.AxesSubplot at 0x1046690c5f8>"
      ]
     },
     "execution_count": 12,
     "metadata": {},
     "output_type": "execute_result"
    },
    {
     "data": {
      "image/png": "[encoded data removed]",
      "text/plain": [
       "<Figure size 432x288 with 1 Axes>"
      ]
     },
     "metadata": {
      "needs_background": "light"
     },
     "output_type": "display_data"
    }
   ],
   "source": [
    "most_played_classes = pd.Series(classesDici)\n",
    "most_played_classes.plot(kind = 'bar',color = 'limegreen')"
   ]
  },
  {
   "cell_type": "markdown",
   "metadata": {},
   "source": [
    "#### Os 10 decks com maior winrate total:"
   ]
  },
  {
   "cell_type": "code",
   "execution_count": 13,
   "metadata": {},
   "outputs": [
    {
     "data": {
      "text/plain": [
       "Paladino Murloc           60.249143\n",
       "Highlander Hunter         59.865312\n",
       "Totem Shaman              55.911839\n",
       "Caçador Dragão            54.380436\n",
       "Pure Paladin              54.096946\n",
       "Mago Highlander           53.367319\n",
       "Tempo Demon Hunter        53.058028\n",
       "Galakrond Secret Rogue    52.052494\n",
       "Face Hunter               51.972872\n",
       "Galakrond Shaman          51.616706\n",
       "dtype: float64"
      ]
     },
     "execution_count": 13,
     "metadata": {},
     "output_type": "execute_result"
    }
   ],
   "source": [
    "#Obtém os decks com a maior winrate geral com os pesos sendo o número de partidas jogadas contra cada arquétipo\n",
    "wr_total = ((df0*df1).transpose().sum()/df1.transpose().sum()).sort_values(ascending = False).head(10)\n",
    "wr_total"
   ]
  },
  {
   "cell_type": "code",
   "execution_count": 14,
   "metadata": {},
   "outputs": [
    {
     "data": {
      "text/plain": [
       "<matplotlib.axes._subplots.AxesSubplot at 0x104669d0860>"
      ]
     },
     "execution_count": 14,
     "metadata": {},
     "output_type": "execute_result"
    },
    {
     "data": {
      "image/png": "[encoded data removed]",
      "text/plain": [
       "<Figure size 432x288 with 1 Axes>"
      ]
     },
     "metadata": {
      "needs_background": "light"
     },
     "output_type": "display_data"
    }
   ],
   "source": [
    "wr_total.plot(kind = 'bar',color = 'royalblue')"
   ]
  },
  {
   "cell_type": "markdown",
   "metadata": {},
   "source": [
    "#### Os 10 decks com maior winrate em relação aos arquétipos mais jogados:"
   ]
  },
  {
   "cell_type": "code",
   "execution_count": 15,
   "metadata": {},
   "outputs": [],
   "source": [
    "#Obtém os decks com maior winrate apenas contra os decks mais presentes do meta\n",
    "most_played_arq = np.array(sum_df1_head.keys())\n",
    "wrdf = df0[most_played_arq].transpose()[most_played_arq]"
   ]
  },
  {
   "cell_type": "code",
   "execution_count": 16,
   "metadata": {},
   "outputs": [
    {
     "data": {
      "text/plain": [
       "Paladino Murloc       59.229580\n",
       "Highlander Hunter     57.238925\n",
       "Pure Paladin          53.343771\n",
       "Caçador Dragão        52.345361\n",
       "Tempo Demon Hunter    49.994084\n",
       "Face Hunter           48.843685\n",
       "Mago Highlander       48.462841\n",
       "Dragon Druid          45.910509\n",
       "No Minion Mage        44.212091\n",
       "Galakrond Priest      42.956822\n",
       "dtype: float64"
      ]
     },
     "execution_count": 16,
     "metadata": {},
     "output_type": "execute_result"
    }
   ],
   "source": [
    "sum_arch = df1[wrdf.keys()].transpose()[wrdf.keys()]\n",
    "\n",
    "wr_arch = ((wrdf*sum_arch).sum()/sum_arch.sum()).sort_values(ascending = False)\n",
    "wr_arch"
   ]
  },
  {
   "cell_type": "code",
   "execution_count": 17,
   "metadata": {},
   "outputs": [
    {
     "data": {
      "text/plain": [
       "<matplotlib.axes._subplots.AxesSubplot at 0x10466a762e8>"
      ]
     },
     "execution_count": 17,
     "metadata": {},
     "output_type": "execute_result"
    },
    {
     "data": {
      "image/png": "[encoded data removed]",
      "text/plain": [
       "<Figure size 432x288 with 1 Axes>"
      ]
     },
     "metadata": {
      "needs_background": "light"
     },
     "output_type": "display_data"
    }
   ],
   "source": [
    "wr_arch.plot(kind = 'bar',color = 'r')"
   ]
  },
  {
   "cell_type": "markdown",
   "metadata": {},
   "source": [
    "#### Os tops counters dos top 10 decks :"
   ]
  },
  {
   "cell_type": "code",
   "execution_count": 18,
   "metadata": {},
   "outputs": [],
   "source": [
    "#A partir das análises anteorier adiciona os decks que aparecem em uma mas não em outra.\n",
    "classes = np.unique(np.concatenate((np.array(wr_arch.keys()),np.array(wr_total.keys()))))"
   ]
  },
  {
   "cell_type": "code",
   "execution_count": 19,
   "metadata": {},
   "outputs": [],
   "source": [
    "#Encontra os top counters de cada um dos arquétipos selecionados.\n",
    "min_arch= df0.transpose()[classes]\n",
    "counters = np.empty(0)\n",
    "for i in classes:\n",
    "    min_wr = np.nanmin(min_arch[i])\n",
    "    idx = np.where(min_arch[i] == min_wr)\n",
    "    counters = np.append(counters,df0.keys()[idx])"
   ]
  },
  {
   "cell_type": "code",
   "execution_count": 20,
   "metadata": {},
   "outputs": [
    {
     "data": {
      "text/plain": [
       "{'Caçador Dragão': 'Paladino Murloc',\n",
       " 'Dragon Druid': 'Paladino Murloc',\n",
       " 'Face Hunter': 'Pure Paladin',\n",
       " 'Galakrond Priest': 'Highlander Hunter',\n",
       " 'Galakrond Secret Rogue': 'Face Hunter',\n",
       " 'Galakrond Shaman': 'Paladino Murloc',\n",
       " 'Highlander Hunter': 'Paladino Murloc',\n",
       " 'Mago Highlander': 'Highlander Hunter',\n",
       " 'No Minion Mage': 'Highlander Hunter',\n",
       " 'Paladino Murloc': 'Egg Warrior',\n",
       " 'Pure Paladin': 'Mago Highlander',\n",
       " 'Tempo Demon Hunter': 'Egg Warrior',\n",
       " 'Totem Shaman': 'Paladino Murloc'}"
      ]
     },
     "execution_count": 20,
     "metadata": {},
     "output_type": "execute_result"
    }
   ],
   "source": [
    "dici_counters = dict(zip(classes,counters))\n",
    "dici_counters"
   ]
  },
  {
   "cell_type": "markdown",
   "metadata": {},
   "source": [
    "#### Winrates dos top counters"
   ]
  },
  {
   "cell_type": "code",
   "execution_count": 21,
   "metadata": {},
   "outputs": [],
   "source": [
    "#Calcula a winrite dos counters dos principais decks\n",
    "tc = df0[classes].transpose()[counters].transpose().drop_duplicates().transpose()\n",
    "sum_tc = df1[classes].transpose()[counters].transpose().drop_duplicates().transpose()"
   ]
  },
  {
   "cell_type": "code",
   "execution_count": 22,
   "metadata": {},
   "outputs": [
    {
     "data": {
      "text/plain": [
       "Paladino Murloc      59.547442\n",
       "Highlander Hunter    57.125436\n",
       "Pure Paladin         52.545763\n",
       "Face Hunter          49.410398\n",
       "Mago Highlander      49.157438\n",
       "Egg Warrior          46.766303\n",
       "dtype: float64"
      ]
     },
     "execution_count": 22,
     "metadata": {},
     "output_type": "execute_result"
    }
   ],
   "source": [
    "wr_tc = ((tc*sum_tc).sum()/sum_tc.sum()).sort_values(ascending = False)\n",
    "wr_tc"
   ]
  },
  {
   "cell_type": "markdown",
   "metadata": {},
   "source": [
    "#### Previsão do Meta"
   ]
  },
  {
   "cell_type": "markdown",
   "metadata": {},
   "source": [
    "#### Variáveis para inferência:\n",
    "    -> winrate total\n",
    "    -> winrate por arquétipos mais jogados\n",
    "    -> max counter winrate"
   ]
  },
  {
   "cell_type": "code",
   "execution_count": 23,
   "metadata": {},
   "outputs": [],
   "source": [
    "### Acrescentar as classes que aparecem no top counter mas não nas análises de maior winrate:\n",
    "classes = np.unique(np.concatenate((classes,np.array(wr_tc.keys()))))"
   ]
  },
  {
   "cell_type": "markdown",
   "metadata": {},
   "source": [
    "##### Winrate Total"
   ]
  },
  {
   "cell_type": "code",
   "execution_count": 24,
   "metadata": {},
   "outputs": [
    {
     "data": {
      "text/plain": [
       "Paladino Murloc           60.249143\n",
       "Highlander Hunter         59.865312\n",
       "Totem Shaman              55.911839\n",
       "Caçador Dragão            54.380436\n",
       "Pure Paladin              54.096946\n",
       "Mago Highlander           53.367319\n",
       "Tempo Demon Hunter        53.058028\n",
       "Galakrond Secret Rogue    52.052494\n",
       "Face Hunter               51.972872\n",
       "Galakrond Shaman          51.616706\n",
       "Dragon Druid              50.206510\n",
       "No Minion Mage            49.512421\n",
       "Egg Warrior               47.772557\n",
       "Galakrond Priest          47.318510\n",
       "dtype: float64"
      ]
     },
     "execution_count": 24,
     "metadata": {},
     "output_type": "execute_result"
    }
   ],
   "source": [
    "#Calcula a winrate total para o as classes agora filtradas.\n",
    "wr_total = ((df0*df1).transpose().sum()/df1.transpose().sum())\n",
    "wr_total = wr_total[classes].sort_values(ascending = False)\n",
    "wr_total"
   ]
  },
  {
   "cell_type": "markdown",
   "metadata": {},
   "source": [
    "##### Winrate por arquétipos mais jogados"
   ]
  },
  {
   "cell_type": "code",
   "execution_count": 25,
   "metadata": {},
   "outputs": [
    {
     "data": {
      "text/plain": [
       "Paladino Murloc           59.229580\n",
       "Highlander Hunter         57.238925\n",
       "Totem Shaman              54.222681\n",
       "Pure Paladin              53.343771\n",
       "Caçador Dragão            52.345361\n",
       "Tempo Demon Hunter        49.994084\n",
       "Face Hunter               48.843685\n",
       "Galakrond Secret Rogue    48.750973\n",
       "Mago Highlander           48.462841\n",
       "Galakrond Shaman          47.635313\n",
       "Egg Warrior               46.027872\n",
       "Dragon Druid              45.910509\n",
       "No Minion Mage            44.212091\n",
       "Galakrond Priest          42.956822\n",
       "dtype: float64"
      ]
     },
     "execution_count": 25,
     "metadata": {},
     "output_type": "execute_result"
    }
   ],
   "source": [
    "#Calcula o winrate com relação aos decks mais jogados.\n",
    "most_played_arq = np.array(sum_df1_head.keys())\n",
    "wrdf = df0[most_played_arq].transpose()[classes]\n",
    "\n",
    "sum_arch = df1[most_played_arq].transpose()[wrdf.keys()]\n",
    "\n",
    "wr_arch = ((wrdf*sum_arch).sum()/sum_arch.sum()).sort_values(ascending = False)\n",
    "wr_arch"
   ]
  },
  {
   "cell_type": "markdown",
   "metadata": {},
   "source": [
    "###### Max counter winrate"
   ]
  },
  {
   "cell_type": "code",
   "execution_count": 26,
   "metadata": {},
   "outputs": [],
   "source": [
    "#Cria um dicionário com cada classe e seu respectivo counter à direita.\n",
    "min_arch= df0.transpose()[classes]\n",
    "counters = np.empty(0)\n",
    "for i in classes:\n",
    "    min_wr = np.nanmin(min_arch[i])\n",
    "    idx = np.where(min_arch[i] == min_wr)\n",
    "    counters = np.append(counters,df0.keys()[idx])\n",
    "\n",
    "dici_counters = dict(zip(classes,counters))"
   ]
  },
  {
   "cell_type": "code",
   "execution_count": 27,
   "metadata": {},
   "outputs": [
    {
     "data": {
      "text/plain": [
       "{'Paladino Murloc': 59.73936138198057,\n",
       " 'Highlander Hunter': 58.55211852874439,\n",
       " 'Totem Shaman': 55.06726007245167,\n",
       " 'Pure Paladin': 53.7203581245426,\n",
       " 'Caçador Dragão': 53.362898348977716,\n",
       " 'Tempo Demon Hunter': 51.526055789513904,\n",
       " 'Mago Highlander': 53.7203581245426,\n",
       " 'Face Hunter': 50.40827870783701,\n",
       " 'Galakrond Secret Rogue': 50.40173341606238,\n",
       " 'Galakrond Shaman': 49.62600943668315,\n",
       " 'Dragon Druid': 48.05850962854731,\n",
       " 'Egg Warrior': 59.73936138198057,\n",
       " 'No Minion Mage': 46.86225617698706,\n",
       " 'Galakrond Priest': 45.13766586970333}"
      ]
     },
     "execution_count": 27,
     "metadata": {},
     "output_type": "execute_result"
    }
   ],
   "source": [
    "#Calcula o winrate médio (total/vs decks mais jogados) de cada arquétipo\n",
    "mean_wr = ((wr_total+wr_arch)/2).sort_values(ascending = False)\n",
    "\n",
    "#Obtém os valores da maior winrate entre os decks counterados caso o arquétipo apareça na lista de counters, \n",
    "#caso não mantém a winrate média.\n",
    "keys = list(dici_counters.keys())\n",
    "max_counter_wr = dict(mean_wr)\n",
    "for key in keys:\n",
    "    if dici_counters[key] not in classes:\n",
    "        continue\n",
    "    counter = dici_counters[key]\n",
    "    key_wr = mean_wr[key]\n",
    "    if key_wr > max_counter_wr[counter]:\n",
    "        max_counter_wr[counter] = key_wr\n",
    "max_counter_wr"
   ]
  },
  {
   "cell_type": "markdown",
   "metadata": {},
   "source": [
    "##### Média dos valores de counter e da winrate média"
   ]
  },
  {
   "cell_type": "code",
   "execution_count": 28,
   "metadata": {},
   "outputs": [],
   "source": [
    "#Tira a média aritimética dos valores de counter e a winrate média para definir o META\n",
    "max_counter_wr = pd.Series(max_counter_wr)\n",
    "META = ((max_counter_wr + mean_wr)/2).sort_values(ascending = False)"
   ]
  },
  {
   "cell_type": "code",
   "execution_count": 29,
   "metadata": {},
   "outputs": [
    {
     "data": {
      "text/plain": [
       "Paladino Murloc           59.739361\n",
       "Highlander Hunter         58.552119\n",
       "Totem Shaman              55.067260\n",
       "Pure Paladin              53.720358\n",
       "Caçador Dragão            53.362898\n",
       "Egg Warrior               53.319788\n",
       "Mago Highlander           52.317719\n",
       "Tempo Demon Hunter        51.526056\n",
       "Face Hunter               50.408279\n",
       "Galakrond Secret Rogue    50.401733\n",
       "Galakrond Shaman          49.626009\n",
       "Dragon Druid              48.058510\n",
       "No Minion Mage            46.862256\n",
       "Galakrond Priest          45.137666\n",
       "dtype: float64"
      ]
     },
     "execution_count": 29,
     "metadata": {},
     "output_type": "execute_result"
    }
   ],
   "source": [
    "META"
   ]
  },
  {
   "cell_type": "markdown",
   "metadata": {},
   "source": [
    "#### Notas da análise :\n",
    "##### Na busca pelos decks counters foi utilizado apenas os top1 counters dos arquétipos com maior winrate, o motivo é que apenas decks realmente impactantes passariam dessa filtragem e por isso não foram utilizados todos os counters.\n",
    "##### A utilização da análise dos counters foi essencial para permitir que mesmo decks com uma winrate baixa porém sendo counters poderosos de arquétipos de winrate bem mais elevada pudessem também ser contados.\n",
    "##### O resultado obtido foi dentro do esperado e validável pelos metas tanto em suas discordâncias tanto em concordâncias:                                     Na análise do HSreplay o 'Egg Warrior' nem sequer aparecia como um deck forte enquanto na análise da TempoStorm ele aparecia como um deck tier1, aqui vemos que ele não aparece no topo mais ainda é considerado um deck forte!"
   ]
  }
 ],
 "metadata": {
  "kernelspec": {
   "display_name": "Python 3",
   "language": "python",
   "name": "python3"
  },
  "language_info": {
   "codemirror_mode": {
    "name": "ipython",
    "version": 3
   },
   "file_extension": ".py",
   "mimetype": "text/x-python",
   "name": "python",
   "nbconvert_exporter": "python",
   "pygments_lexer": "ipython3",
   "version": "3.7.3"
  }
 },
 "nbformat": 4,
 "nbformat_minor": 2
}
